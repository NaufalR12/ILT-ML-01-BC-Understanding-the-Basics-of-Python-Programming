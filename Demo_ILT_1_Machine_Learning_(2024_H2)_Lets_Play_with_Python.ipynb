{
  "nbformat": 4,
  "nbformat_minor": 0,
  "metadata": {
    "colab": {
      "provenance": [],
      "toc_visible": true
    },
    "kernelspec": {
      "name": "python3",
      "display_name": "Python 3"
    },
    "language_info": {
      "name": "python"
    }
  },
  "cells": [
    {
      "cell_type": "markdown",
      "source": [
        "# Introduction to  Python\n"
      ],
      "metadata": {
        "id": "ApHE4w8GU_ep"
      }
    },
    {
      "cell_type": "markdown",
      "source": [
        "## Hello World in Python"
      ],
      "metadata": {
        "id": "vHzt87DYXZMq"
      }
    },
    {
      "cell_type": "markdown",
      "source": [
        "**What is Python?**\n",
        "\n",
        "Python is a dynamic, interpreted (bytecode-compiled) language.\n",
        "\n",
        "**Why programming with Python?**\n",
        "* Easy syntax\n",
        "* Most chosen language for IT\n",
        "* Omnipresent\n",
        "* Versatile\n",
        "\n"
      ],
      "metadata": {
        "id": "lqot9q8IYTjE"
      }
    },
    {
      "cell_type": "code",
      "source": [
        "PhoneNumber = '081234567890'\n",
        "print(type(str(float(PhoneNumber))))"
      ],
      "metadata": {
        "colab": {
          "base_uri": "https://localhost:8080/"
        },
        "id": "ad_k9pO_XJLq",
        "outputId": "d4935d03-ca83-435f-9cd9-cf10dcdf2419"
      },
      "execution_count": null,
      "outputs": [
        {
          "output_type": "stream",
          "name": "stdout",
          "text": [
            "<class 'str'>\n"
          ]
        }
      ]
    },
    {
      "cell_type": "code",
      "source": [
        "# Check an installed Python\n",
        "! python --version"
      ],
      "metadata": {
        "colab": {
          "base_uri": "https://localhost:8080/"
        },
        "id": "h2TaBzGjXfrn",
        "outputId": "84efc6ac-d916-4de9-db66-87bdade09e2d"
      },
      "execution_count": null,
      "outputs": [
        {
          "output_type": "stream",
          "name": "stdout",
          "text": [
            "Python 3.10.12\n"
          ]
        }
      ]
    },
    {
      "cell_type": "code",
      "source": [
        "! python3 -V"
      ],
      "metadata": {
        "colab": {
          "base_uri": "https://localhost:8080/"
        },
        "id": "b8LyoN3i7xla",
        "outputId": "acc38476-bcd9-4bda-9b47-5e8c889e1948"
      },
      "execution_count": null,
      "outputs": [
        {
          "output_type": "stream",
          "name": "stdout",
          "text": [
            "Python 3.10.12\n"
          ]
        }
      ]
    },
    {
      "cell_type": "code",
      "execution_count": null,
      "metadata": {
        "colab": {
          "base_uri": "https://localhost:8080/"
        },
        "id": "JCHI9CDAUPnk",
        "outputId": "5191e27a-5845-4a12-c722-d33a10d537f6"
      },
      "outputs": [
        {
          "output_type": "stream",
          "name": "stdout",
          "text": [
            "hello, bangkit\n"
          ]
        }
      ],
      "source": [
        "print('hello, bangkit')"
      ]
    },
    {
      "cell_type": "markdown",
      "source": [
        "## Basic Python Syntax"
      ],
      "metadata": {
        "id": "388VwBZmYPs0"
      }
    },
    {
      "cell_type": "markdown",
      "source": [
        "### Data Types\n",
        "\n",
        "* **String** (str): text.\n",
        "* **Integer** (int): numbers, without fraction.\n",
        "* **Float**: numbers with fraction.\n",
        "* **Boolean** (bool): data type which only has 2 values\n",
        "\n",
        "We can convert from one data type to others by committing to implicit conversion or defining an explicit conversion.\n"
      ],
      "metadata": {
        "id": "hRw-NPjcZVVe"
      }
    },
    {
      "cell_type": "code",
      "source": [
        "# Convert String to Integer\n",
        "phone = \"0895444333558\"\n",
        "print(type(phone))\n",
        "\n",
        "phone = int(phone)\n",
        "print(type(phone))"
      ],
      "metadata": {
        "colab": {
          "base_uri": "https://localhost:8080/"
        },
        "id": "Ajb8ZM3qRJNy",
        "outputId": "57501e46-0433-43fb-8d2e-f6a7a7cf35fb"
      },
      "execution_count": null,
      "outputs": [
        {
          "output_type": "stream",
          "name": "stdout",
          "text": [
            "<class 'str'>\n",
            "<class 'int'>\n"
          ]
        }
      ]
    },
    {
      "cell_type": "code",
      "source": [
        "phone"
      ],
      "metadata": {
        "colab": {
          "base_uri": "https://localhost:8080/"
        },
        "id": "T1e8Oj50L7ES",
        "outputId": "5d9ed114-ef9f-4d23-d928-97bfb6e32577"
      },
      "execution_count": null,
      "outputs": [
        {
          "output_type": "execute_result",
          "data": {
            "text/plain": [
              "895444333558"
            ]
          },
          "metadata": {},
          "execution_count": 6
        }
      ]
    },
    {
      "cell_type": "markdown",
      "source": [
        "**Let's try!**"
      ],
      "metadata": {
        "id": "WLAusPnE5dJE"
      }
    },
    {
      "cell_type": "code",
      "source": [
        "# Try code yourself\n",
        "\n",
        "phone = 895444333558.0\n",
        "print(type(phone))\n",
        "\n",
        "phone = str(phone)\n",
        "print(type(phone))"
      ],
      "metadata": {
        "id": "ejodLu1Mwixb",
        "colab": {
          "base_uri": "https://localhost:8080/"
        },
        "outputId": "158b9a92-bdea-4e3e-9a01-2a14393dec20"
      },
      "execution_count": null,
      "outputs": [
        {
          "output_type": "stream",
          "name": "stdout",
          "text": [
            "<class 'float'>\n",
            "<class 'str'>\n"
          ]
        }
      ]
    },
    {
      "cell_type": "markdown",
      "source": [
        "### Variables\n",
        "* Name to certain values\n",
        "* The values can be any data type\n",
        "* The process of storing a value inside a variable **is called an assignment.**\n",
        "* Can only be made up of letters, numbers, and underscore.\n",
        "* Can’t be Python reserved keywords."
      ],
      "metadata": {
        "id": "M_oidvqRbwPX"
      }
    },
    {
      "cell_type": "markdown",
      "source": [
        "![image.png](data:image/png;base64,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)"
      ],
      "metadata": {
        "id": "tnF8pLuAv3i9"
      }
    },
    {
      "cell_type": "code",
      "source": [
        "# String (str)\n",
        "color = \"red\"\n",
        "print(type(color))"
      ],
      "metadata": {
        "colab": {
          "base_uri": "https://localhost:8080/"
        },
        "id": "pd6sULeYYFVm",
        "outputId": "54de5f98-aa18-4789-f75d-76c9ca9a2eed"
      },
      "execution_count": null,
      "outputs": [
        {
          "output_type": "stream",
          "name": "stdout",
          "text": [
            "<class 'str'>\n"
          ]
        }
      ]
    },
    {
      "cell_type": "code",
      "source": [
        "# Integer (int)\n",
        "length = 10\n",
        "print(type(length))"
      ],
      "metadata": {
        "colab": {
          "base_uri": "https://localhost:8080/"
        },
        "id": "dnWjuU5VayEf",
        "outputId": "46a09771-ffc2-4f1f-9bee-3ff4f55af867"
      },
      "execution_count": null,
      "outputs": [
        {
          "output_type": "stream",
          "name": "stdout",
          "text": [
            "<class 'int'>\n"
          ]
        }
      ]
    },
    {
      "cell_type": "code",
      "source": [
        "# Float\n",
        "width = 2.0\n",
        "print(type(width))"
      ],
      "metadata": {
        "colab": {
          "base_uri": "https://localhost:8080/"
        },
        "id": "5m38VmsTbCk0",
        "outputId": "32c3a707-b844-4488-f3f1-ee4e54499712"
      },
      "execution_count": null,
      "outputs": [
        {
          "output_type": "stream",
          "name": "stdout",
          "text": [
            "<class 'float'>\n"
          ]
        }
      ]
    },
    {
      "cell_type": "markdown",
      "source": [
        "**Let's try!**"
      ],
      "metadata": {
        "id": "ctdoYyd-5kVy"
      }
    },
    {
      "cell_type": "code",
      "source": [
        "# Try code yourself"
      ],
      "metadata": {
        "id": "b3mU-O3CbOCG"
      },
      "execution_count": null,
      "outputs": []
    },
    {
      "cell_type": "markdown",
      "source": [
        "**Don't Do This**"
      ],
      "metadata": {
        "id": "K3E-I51FcUmB"
      }
    },
    {
      "cell_type": "code",
      "source": [
        "def = 'Function'\n",
        "class = 'Class'"
      ],
      "metadata": {
        "id": "dGftZ9LabgwV",
        "colab": {
          "base_uri": "https://localhost:8080/",
          "height": 110
        },
        "outputId": "083ed197-4038-4186-8549-a550d0fd524d"
      },
      "execution_count": null,
      "outputs": [
        {
          "output_type": "error",
          "ename": "SyntaxError",
          "evalue": "invalid syntax (<ipython-input-8-10797b05c5c8>, line 1)",
          "traceback": [
            "\u001b[0;36m  File \u001b[0;32m\"<ipython-input-8-10797b05c5c8>\"\u001b[0;36m, line \u001b[0;32m1\u001b[0m\n\u001b[0;31m    def = 'Function'\u001b[0m\n\u001b[0m        ^\u001b[0m\n\u001b[0;31mSyntaxError\u001b[0m\u001b[0;31m:\u001b[0m invalid syntax\n"
          ]
        }
      ]
    },
    {
      "cell_type": "code",
      "source": [
        "print(\"and\")\n",
        "print(\"or\")"
      ],
      "metadata": {
        "colab": {
          "base_uri": "https://localhost:8080/"
        },
        "id": "7upgr1OXxEnx",
        "outputId": "0a470560-2538-4423-afa3-dea6fcb0225b"
      },
      "execution_count": null,
      "outputs": [
        {
          "output_type": "stream",
          "name": "stdout",
          "text": [
            "and\n",
            "or\n"
          ]
        }
      ]
    },
    {
      "cell_type": "code",
      "source": [
        "# Find the keyword\n",
        "\n",
        "import keyword\n",
        "print(keyword.kwlist)"
      ],
      "metadata": {
        "id": "J4QdNqq4vnyN",
        "colab": {
          "base_uri": "https://localhost:8080/"
        },
        "outputId": "d2bcc2fd-4aaf-4670-fcdf-67dd276eb4cd"
      },
      "execution_count": null,
      "outputs": [
        {
          "output_type": "stream",
          "name": "stdout",
          "text": [
            "['False', 'None', 'True', 'and', 'as', 'assert', 'async', 'await', 'break', 'class', 'continue', 'def', 'del', 'elif', 'else', 'except', 'finally', 'for', 'from', 'global', 'if', 'import', 'in', 'is', 'lambda', 'nonlocal', 'not', 'or', 'pass', 'raise', 'return', 'try', 'while', 'with', 'yield']\n"
          ]
        }
      ]
    },
    {
      "cell_type": "markdown",
      "source": [
        "### Comparison\n",
        "* Boolean (bool) data type represents one of two possible states, either True or False.\n",
        "* Not all data types can be compared, so be aware to compare two different data types.\n",
        "* Comparison operator not only checking equality and less/more it also includes logical operator: and, or, not.\n"
      ],
      "metadata": {
        "id": "xYCEhaOlfbK0"
      }
    },
    {
      "cell_type": "markdown",
      "source": [
        "* Comparison operators\n",
        "  * a == b: a is equal to b\n",
        "  * a != b: a is different than b\n",
        "  * a < b: a is smaller than b\n",
        "  * a <= b: a is smaller or equal to b\n",
        "  * a > b: a is bigger than b\n",
        "  * a >= b: a is bigger or equal to b\n",
        "\n",
        "* Logical operators\n",
        "  * a and b: True if both a and b are True. False otherwise.\n",
        "  * a or b: True if either a or b or both are True. False if both are False.\n",
        "  * not a: True if a is False, False if a is True.\n"
      ],
      "metadata": {
        "id": "x79WDe4vf4Ve"
      }
    },
    {
      "cell_type": "markdown",
      "source": [
        "**Let's try**"
      ],
      "metadata": {
        "id": "1Z77_uJU8cZp"
      }
    },
    {
      "cell_type": "code",
      "source": [
        "# Try code yourself\n",
        "\n",
        "print(\"Android \" == \"Android\")\n",
        "print(not not False)"
      ],
      "metadata": {
        "id": "CjZp-Ek38G75",
        "colab": {
          "base_uri": "https://localhost:8080/"
        },
        "outputId": "ced3c654-fcc5-4c17-a411-7183f6dc702a"
      },
      "execution_count": null,
      "outputs": [
        {
          "output_type": "stream",
          "name": "stdout",
          "text": [
            "False\n",
            "False\n"
          ]
        }
      ]
    },
    {
      "cell_type": "markdown",
      "source": [
        "### Functions\n",
        "* Define function with def keyword.\n",
        "* Function has body, written as a block after colon in function definition. The block has indented to the right.\n",
        "* To get value from a function use the return keyword.\n"
      ],
      "metadata": {
        "id": "XyqGDWKNce5N"
      }
    },
    {
      "cell_type": "markdown",
      "source": [
        "![image.png](data:image/png;base64,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)"
      ],
      "metadata": {
        "id": "j77Oyfycy4dV"
      }
    },
    {
      "cell_type": "code",
      "source": [
        "def greeting(name):\n",
        "  return 'Hello, ' + name\n",
        "\n",
        "print(greeting(\"Nigel\"))"
      ],
      "metadata": {
        "colab": {
          "base_uri": "https://localhost:8080/"
        },
        "id": "-xDdDieMcaEv",
        "outputId": "5e833c87-1bda-4118-b673-b3fe7cc4e0e2"
      },
      "execution_count": null,
      "outputs": [
        {
          "output_type": "stream",
          "name": "stdout",
          "text": [
            "Hello, Nigel\n"
          ]
        }
      ]
    },
    {
      "cell_type": "markdown",
      "source": [
        "### Conditional & If Statements\n",
        "* The ability of a program to alter its execution sequence is called branching.\n",
        "* The if block will be executed only if the condition is True.\n",
        "* Use elif & else statement to handle multiple conditions."
      ],
      "metadata": {
        "id": "DM6lel6hc_QH"
      }
    },
    {
      "cell_type": "code",
      "source": [
        "hour = 10\n",
        "if hour < 12:\n",
        "  print(\"Good morning!\")"
      ],
      "metadata": {
        "colab": {
          "base_uri": "https://localhost:8080/"
        },
        "id": "IwHO0YxSc2Hf",
        "outputId": "81ad1810-af90-412c-f7b2-f35f47397408"
      },
      "execution_count": null,
      "outputs": [
        {
          "output_type": "stream",
          "name": "stdout",
          "text": [
            "Good morning!\n"
          ]
        }
      ]
    },
    {
      "cell_type": "code",
      "source": [
        "def check(number):\n",
        "    if number > 0:\n",
        "        return \"Positive\"\n",
        "    elif number == 0:\n",
        "        return \"Netral\"\n",
        "    else:\n",
        "        return \"Negative\"\n",
        "\n",
        "print(check(0))"
      ],
      "metadata": {
        "colab": {
          "base_uri": "https://localhost:8080/"
        },
        "id": "ycVxi8cEdTyt",
        "outputId": "20942834-b68f-45f5-8e11-7c426aeeb566"
      },
      "execution_count": null,
      "outputs": [
        {
          "output_type": "stream",
          "name": "stdout",
          "text": [
            "Netral\n"
          ]
        }
      ]
    },
    {
      "cell_type": "markdown",
      "source": [
        "**Let's try**"
      ],
      "metadata": {
        "id": "22YDlOo59ASb"
      }
    },
    {
      "cell_type": "code",
      "source": [
        "# Try code yourself\n",
        "\n",
        "def check(number):\n",
        "  return \"Positive\" if number > 0 else \"Zero\" if number == 0 else \"Negative\"\n",
        "\n",
        "print(check(-1))"
      ],
      "metadata": {
        "id": "eNtJuppZzeV9",
        "colab": {
          "base_uri": "https://localhost:8080/"
        },
        "outputId": "e1f99b28-e446-4d26-886e-1f4a7af8bb8f"
      },
      "execution_count": null,
      "outputs": [
        {
          "output_type": "stream",
          "name": "stdout",
          "text": [
            "Negative\n"
          ]
        }
      ]
    },
    {
      "cell_type": "markdown",
      "source": [
        "### Loops\n",
        "\n",
        "**while** loop instruct computer to continuously execute code based on the value of a condition.\n",
        "\n",
        "\n"
      ],
      "metadata": {
        "id": "EBeW3s6kgevL"
      }
    },
    {
      "cell_type": "code",
      "source": [
        "x = 7\n",
        "\n",
        "while x > 0:\n",
        "  print(\"positive x=\" + str(x))\n",
        "  x = x - 1\n",
        "  print(\"now x=\" + str(x))"
      ],
      "metadata": {
        "colab": {
          "base_uri": "https://localhost:8080/"
        },
        "id": "ZKXR6gZGfRI_",
        "outputId": "7d2e82ae-2827-4278-8bdd-01e3569d637e"
      },
      "execution_count": null,
      "outputs": [
        {
          "output_type": "stream",
          "name": "stdout",
          "text": [
            "positive x=7\n",
            "now x=6\n",
            "positive x=6\n",
            "now x=5\n",
            "positive x=5\n",
            "now x=4\n",
            "positive x=4\n",
            "now x=3\n",
            "positive x=3\n",
            "now x=2\n",
            "positive x=2\n",
            "now x=1\n",
            "positive x=1\n",
            "now x=0\n"
          ]
        }
      ]
    },
    {
      "cell_type": "markdown",
      "source": [
        "**Warning** to avoid infinity loop like this"
      ],
      "metadata": {
        "id": "rFu7n3CJWpSa"
      }
    },
    {
      "cell_type": "code",
      "source": [
        "x = 7\n",
        "\n",
        "while x > 0:\n",
        "  print(\"positive x=\" + str(x))\n",
        "  x = x + 1\n",
        "  print(\"now x=\" + str(x))"
      ],
      "metadata": {
        "id": "pioAa5f5yJQC"
      },
      "execution_count": null,
      "outputs": []
    },
    {
      "cell_type": "markdown",
      "source": [
        "\n",
        "**for** loop iterates over a sequence of values."
      ],
      "metadata": {
        "id": "mBicYfLNgqBU"
      }
    },
    {
      "cell_type": "code",
      "source": [
        "for x in range(3):\n",
        "  print(\"x=\" + str(x))"
      ],
      "metadata": {
        "colab": {
          "base_uri": "https://localhost:8080/"
        },
        "id": "ItDfsx5-grSM",
        "outputId": "a963e7ec-7cee-44d0-b3e8-b805335d18e5"
      },
      "execution_count": null,
      "outputs": [
        {
          "output_type": "stream",
          "name": "stdout",
          "text": [
            "x=0\n",
            "x=1\n",
            "x=2\n"
          ]
        }
      ]
    },
    {
      "cell_type": "markdown",
      "source": [
        "**for** loop also can do this"
      ],
      "metadata": {
        "id": "KP3gITscXRvz"
      }
    },
    {
      "cell_type": "code",
      "source": [
        "sentences = ['Bangkit', \"2024\", \"H1\"]\n",
        "for word in sentences:\n",
        "  print(word)"
      ],
      "metadata": {
        "colab": {
          "base_uri": "https://localhost:8080/"
        },
        "id": "fgOIIQDAXKgH",
        "outputId": "838950b7-2cfd-4ce8-e823-ac8bbfad1f67"
      },
      "execution_count": null,
      "outputs": [
        {
          "output_type": "stream",
          "name": "stdout",
          "text": [
            "Bangkit\n",
            "2024\n",
            "H1\n"
          ]
        }
      ]
    },
    {
      "cell_type": "markdown",
      "source": [
        "Both while and for loops can be interrupted using the **break** keyword.\n",
        "\n"
      ],
      "metadata": {
        "id": "Nr8XRQx6hMYI"
      }
    },
    {
      "cell_type": "code",
      "source": [
        "for x in range(3):\n",
        "    print(\"x=\" + str(x))\n",
        "    if x == 1:\n",
        "        break  # quit from loop"
      ],
      "metadata": {
        "colab": {
          "base_uri": "https://localhost:8080/"
        },
        "id": "vt5AIOQtg5wd",
        "outputId": "0d426e0d-5fc4-46b5-b9cb-fe0ae8148f27"
      },
      "execution_count": null,
      "outputs": [
        {
          "output_type": "stream",
          "name": "stdout",
          "text": [
            "x=0\n",
            "x=1\n"
          ]
        }
      ]
    },
    {
      "cell_type": "markdown",
      "source": [
        "Use the **continue** keyword to skip the current iteration and continue with the next one."
      ],
      "metadata": {
        "id": "LAdX1_e6hU2x"
      }
    },
    {
      "cell_type": "code",
      "source": [
        "for x in range(3, 0, -1):\n",
        "    if x % 2 == 0:\n",
        "        continue  # skip even\n",
        "    print(x)"
      ],
      "metadata": {
        "colab": {
          "base_uri": "https://localhost:8080/"
        },
        "id": "KWEYYL7AhO4t",
        "outputId": "a615940f-d401-4674-d5fc-4d3a469ae8e4"
      },
      "execution_count": null,
      "outputs": [
        {
          "output_type": "stream",
          "name": "stdout",
          "text": [
            "3\n",
            "1\n"
          ]
        }
      ]
    },
    {
      "cell_type": "markdown",
      "source": [
        "\n",
        "**`Mini Quiz`**\n",
        "---\n",
        "What will happen if we run this program?"
      ],
      "metadata": {
        "id": "JTFKUFTAYevF"
      }
    },
    {
      "cell_type": "code",
      "source": [
        "x = 0\n",
        "\n",
        "while x < 10:\n",
        "  x = x + 1\n",
        "  print(\"x=\" + str(x))"
      ],
      "metadata": {
        "id": "9Vp19oogYqf8",
        "colab": {
          "base_uri": "https://localhost:8080/"
        },
        "outputId": "312724fa-cb8d-4e16-f7b6-4718b35923e5"
      },
      "execution_count": null,
      "outputs": [
        {
          "output_type": "stream",
          "name": "stdout",
          "text": [
            "x=1\n",
            "x=2\n",
            "x=3\n",
            "x=4\n",
            "x=5\n",
            "x=6\n",
            "x=7\n",
            "x=8\n",
            "x=9\n",
            "x=10\n"
          ]
        }
      ]
    },
    {
      "cell_type": "markdown",
      "source": [
        "## Python Data Structure\n"
      ],
      "metadata": {
        "id": "QkwBAt7HhsIU"
      }
    },
    {
      "cell_type": "markdown",
      "source": [
        "### Strings\n",
        "\n",
        "* **Represent a piece of text**.\n",
        "\n",
        "String is a data type in Python employed to represent a piece of text. It’s written between quotes, either single quotes, double quotes, or triple quotes. Escape character using backslash (\\).\n",
        "\n",
        "String can be as short as zero characters (empty string) or significantly long. String concatenation using plus sign (+). The **len** function tells the number of characters contained in the string.\n"
      ],
      "metadata": {
        "id": "2A_xK5CkiPcx"
      }
    },
    {
      "cell_type": "code",
      "source": [
        "program_name = 'bangkit'\n",
        "program_year = \"it's the 2nd\"\n",
        "multi_line = \"\"\"hello,\n",
        "email test.\n",
        "signature.\"\"\"\n",
        "\n",
        "# let's\n",
        "# \"bangkit\"\n",
        "print(\"let's\\n\\\"\"+program_name+\"\\\"\")\n",
        "\n",
        "print(len(''))  # 0\n",
        "print(len(program_name)==7)  # True\n",
        "print(len(multi_line))"
      ],
      "metadata": {
        "colab": {
          "base_uri": "https://localhost:8080/"
        },
        "id": "cZFRNf77i91s",
        "outputId": "974eb10d-51eb-423b-adc4-8f458c27963a"
      },
      "execution_count": null,
      "outputs": [
        {
          "output_type": "stream",
          "name": "stdout",
          "text": [
            "let's\n",
            "\"bangkit\"\n",
            "0\n",
            "True\n",
            "29\n"
          ]
        }
      ]
    },
    {
      "cell_type": "markdown",
      "source": [
        "* **To access substring, use index or slicing**.\n",
        "\n",
        "Python starts counting indexes from 0 not 1. Access index greater than its length - 1, triggers index out of range. Negative indexes starts from behind.\n",
        "\n",
        "To access substring, use slicing, similar to index, with range using a colon as a separator, starts from first number, up to 1 less than last.\n",
        "\n",
        "Slicing with one of two indexes means the other index is either 0 for the first value or its length for the second value.\n"
      ],
      "metadata": {
        "id": "A0vx0h5Yi-oc"
      }
    },
    {
      "cell_type": "code",
      "source": [
        "name = 'bangkit'\n",
        "print(name[1])  # a\n",
        "print(name[0])  # b\n",
        "print(name[len(name)-1])  # t\n",
        "# print(name[len(name)-0])\n",
        "print(name[-1])  # t\n",
        "print(name[-2])  # i\n",
        "# print(name[-8])  # i\n",
        "\n",
        "print(name[4:len(name)-1])  # ki\n",
        "print(name[3:len(name)-2])  # gk\n",
        "\n",
        "print(name[:4])  # bang (0-3)\n",
        "print(name[4:])  # kit  (4-len)"
      ],
      "metadata": {
        "colab": {
          "base_uri": "https://localhost:8080/"
        },
        "id": "CWK5PbZMhP-E",
        "outputId": "9e7486f2-bc5b-4453-c5ca-7f86bb1a16b6"
      },
      "execution_count": null,
      "outputs": [
        {
          "output_type": "stream",
          "name": "stdout",
          "text": [
            "a\n",
            "b\n",
            "t\n",
            "t\n",
            "i\n",
            "ki\n",
            "gk\n",
            "bang\n",
            "kit\n"
          ]
        }
      ]
    },
    {
      "cell_type": "markdown",
      "source": [
        "* **Strings in Python are immutable**\n",
        "\n",
        "Strings in Python are immutable, meaning they can't be modified, can’t change individual characters. It'll trigger TypeError object does not support item assignment.\n",
        "\n",
        "To change string, replace it with the new string.\n",
        "\n",
        "Use in keyword to check if substring is a part of the string."
      ],
      "metadata": {
        "id": "oM--5287iyJO"
      }
    },
    {
      "cell_type": "code",
      "source": [
        "year = \"it's 2024\"\n",
        "year[-1] = \"0\"  # TypeError"
      ],
      "metadata": {
        "colab": {
          "base_uri": "https://localhost:8080/",
          "height": 159
        },
        "id": "GKVOcTT9ijAi",
        "outputId": "b62d5e07-2140-49a2-ec59-b6fc388ba05a"
      },
      "execution_count": null,
      "outputs": [
        {
          "output_type": "error",
          "ename": "TypeError",
          "evalue": "'str' object does not support item assignment",
          "traceback": [
            "\u001b[0;31m---------------------------------------------------------------------------\u001b[0m",
            "\u001b[0;31mTypeError\u001b[0m                                 Traceback (most recent call last)",
            "\u001b[0;32m<ipython-input-97-3266a27688d2>\u001b[0m in \u001b[0;36m<cell line: 2>\u001b[0;34m()\u001b[0m\n\u001b[1;32m      1\u001b[0m \u001b[0myear\u001b[0m \u001b[0;34m=\u001b[0m \u001b[0;34m\"it's 2024\"\u001b[0m\u001b[0;34m\u001b[0m\u001b[0;34m\u001b[0m\u001b[0m\n\u001b[0;32m----> 2\u001b[0;31m \u001b[0myear\u001b[0m\u001b[0;34m[\u001b[0m\u001b[0;34m-\u001b[0m\u001b[0;36m1\u001b[0m\u001b[0;34m]\u001b[0m \u001b[0;34m=\u001b[0m \u001b[0;34m\"0\"\u001b[0m  \u001b[0;31m# TypeError\u001b[0m\u001b[0;34m\u001b[0m\u001b[0;34m\u001b[0m\u001b[0m\n\u001b[0m",
            "\u001b[0;31mTypeError\u001b[0m: 'str' object does not support item assignment"
          ]
        }
      ]
    },
    {
      "cell_type": "markdown",
      "source": [
        "* **Provide a bunch of methods for working with text**\n",
        "\n",
        "String class provide a bunch of methods for working with text. Not only related to text modification, there's also many of text checking method.\n",
        "\n",
        "Remember, the goal is not for memorize all of the methods, just check the documentation or search on the web anytime."
      ],
      "metadata": {
        "id": "vW6HqPvQi0MU"
      }
    },
    {
      "cell_type": "code",
      "source": [
        "program = 'bangkit 2024'\n",
        "program2 = 'bang bang'\n",
        "print(program.index('g'))  # 3\n",
        "print(program2.index('a')) # 1\n",
        "\n",
        "print(program.upper())  # BANGKIT 2021\n",
        "print(program.endswith('2024'))  # True\n",
        "print(program.endswith('2024 '))  # True\n",
        "print(program.replace('2024', '2023'))\n",
        "\n",
        "year = 2024  # integer 2021\n",
        "print(str(year).isnumeric())  # True\n",
        "# bangkit for 2021\n",
        "print(\"{} for {}\".format(\"bangkit\", year))\n"
      ],
      "metadata": {
        "colab": {
          "base_uri": "https://localhost:8080/"
        },
        "id": "mOoxsQWHhqrM",
        "outputId": "65bdd048-f676-4bd3-c6f6-7fff30d472cb"
      },
      "execution_count": null,
      "outputs": [
        {
          "output_type": "stream",
          "name": "stdout",
          "text": [
            "3\n",
            "1\n",
            "BANGKIT 2024\n",
            "True\n",
            "False\n",
            "bangkit 2023\n",
            "True\n",
            "bangkit for 2024\n"
          ]
        }
      ]
    },
    {
      "cell_type": "code",
      "source": [
        "current_year = 2015\n",
        "print(str(current_year).isnumeric())"
      ],
      "metadata": {
        "colab": {
          "base_uri": "https://localhost:8080/"
        },
        "id": "GjgAww1S_PiC",
        "outputId": "ed0c03e7-6257-4342-f52c-ff4dc8f6c69c"
      },
      "execution_count": null,
      "outputs": [
        {
          "output_type": "stream",
          "name": "stdout",
          "text": [
            "True\n"
          ]
        }
      ]
    },
    {
      "cell_type": "markdown",
      "source": [
        "### **List**"
      ],
      "metadata": {
        "id": "2XwOEbkv83cm"
      }
    },
    {
      "cell_type": "markdown",
      "source": [
        "A list in Python is a mutable, ordered collection of items. It is a versatile data structure that can hold elements of different data types. Lists are defined by enclosing elements in square brackets (`[]`) and separating them with commas.\n",
        "\n",
        "\n",
        "- Lists can contain any type of data, such as integers, floats, strings, or even other lists.\n",
        "- Being ordered means that the elements in a list have a specific order, and they can be accessed by their index.\n",
        "- Mutability allows adding, removing, or modifying elements in a list after its creation.\n"
      ],
      "metadata": {
        "id": "PG-poDFg-iQN"
      }
    },
    {
      "cell_type": "markdown",
      "source": [
        "#### **Example:**"
      ],
      "metadata": {
        "id": "MIwFW91a_VHp"
      }
    },
    {
      "cell_type": "code",
      "source": [
        "# List of fruit names\n",
        "fruits = {'apple', 'banana', 'orange', 'grape', 'kiwi', 'mango', 'pineapple'}\n",
        "print(fruits)\n",
        "print(type(fruits))"
      ],
      "metadata": {
        "colab": {
          "base_uri": "https://localhost:8080/"
        },
        "id": "SM8qiKf3AKF2",
        "outputId": "f9694318-08ae-485f-edef-579dd639ba1c"
      },
      "execution_count": null,
      "outputs": [
        {
          "output_type": "stream",
          "name": "stdout",
          "text": [
            "{'orange', 'banana', 'apple', 'mango', 'pineapple', 'grape', 'kiwi'}\n",
            "<class 'set'>\n"
          ]
        }
      ]
    },
    {
      "cell_type": "code",
      "source": [
        "# List of fruit names\n",
        "fruits = ('apple', 'banana', 'orange', 'grape', 'kiwi', 'mango', 'pineapple')\n",
        "print(fruits)\n",
        "print(type(fruits))"
      ],
      "metadata": {
        "colab": {
          "base_uri": "https://localhost:8080/"
        },
        "id": "7lU0TPW0AUw2",
        "outputId": "6eb1d686-5294-4d78-d317-a8e64ebf2cf2"
      },
      "execution_count": null,
      "outputs": [
        {
          "output_type": "stream",
          "name": "stdout",
          "text": [
            "('apple', 'banana', 'orange', 'grape', 'kiwi', 'mango', 'pineapple')\n",
            "<class 'tuple'>\n"
          ]
        }
      ]
    },
    {
      "cell_type": "code",
      "source": [
        "# List of fruit names\n",
        "fruits = 'apple', 'banana', 'orange', 'grape', 'kiwi', 'mango', 'pineapple'\n",
        "print(fruits)\n",
        "print(type(fruits))"
      ],
      "metadata": {
        "colab": {
          "base_uri": "https://localhost:8080/"
        },
        "id": "iJIyzY_nAcbB",
        "outputId": "3fb3fa24-2eef-44a4-a31b-5c511506c6e9"
      },
      "execution_count": null,
      "outputs": [
        {
          "output_type": "stream",
          "name": "stdout",
          "text": [
            "('apple', 'banana', 'orange', 'grape', 'kiwi', 'mango', 'pineapple')\n",
            "<class 'tuple'>\n"
          ]
        }
      ]
    },
    {
      "cell_type": "code",
      "source": [
        "# List of fruit names\n",
        "fruits = ['apple', 'banana', 'orange', 'grape', 'kiwi', 'mango', 'pineapple']\n",
        "print(fruits)\n",
        "print(type(fruits))"
      ],
      "metadata": {
        "colab": {
          "base_uri": "https://localhost:8080/"
        },
        "id": "sbiE3Ozk-k6T",
        "outputId": "3f466f2c-8494-4131-fb70-156bc582789e"
      },
      "execution_count": null,
      "outputs": [
        {
          "output_type": "stream",
          "name": "stdout",
          "text": [
            "['apple', 'banana', 'orange', 'grape', 'kiwi', 'mango', 'pineapple']\n",
            "<class 'list'>\n"
          ]
        }
      ]
    },
    {
      "cell_type": "markdown",
      "source": [
        "In this example:\n",
        "- A list named `fruits` is created with several fruit names.\n",
        "- The `print(fruits)` statement displays the content of the list.\n",
        "- The `print(type(fruits))` statement shows the data type of the variable, which is a list."
      ],
      "metadata": {
        "id": "Y2f2zLHS_IKh"
      }
    },
    {
      "cell_type": "markdown",
      "source": [
        "#### **Using Lists for Different Data Types**"
      ],
      "metadata": {
        "id": "akJTNP1i_XmM"
      }
    },
    {
      "cell_type": "markdown",
      "source": [
        "In Python, lists are versatile and can hold various data types, not just strings. A single list can contain elements of different types, including integers, floats, and even other lists."
      ],
      "metadata": {
        "id": "MAKqRm1H_a_-"
      }
    },
    {
      "cell_type": "code",
      "source": [
        "# List with different data types\n",
        "mixed_list = [1, 2.5, \"apple\", True, [3, 4, 5]]\n",
        "\n",
        "# Accessing elements\n",
        "print(\"Element at index 2:\", mixed_list[2])  # Accessing a string\n",
        "print(\"Element at index 4:\", mixed_list[4])  # Accessing a nested list\n",
        "\n",
        "# Modifying the list\n",
        "mixed_list[1] = 10.5  # Modifying a float to an integer\n",
        "mixed_list.append(\"orange\")  # Adding a string to the end\n",
        "print(\"Modified list:\", mixed_list)"
      ],
      "metadata": {
        "colab": {
          "base_uri": "https://localhost:8080/"
        },
        "id": "NY5hLahq_dIv",
        "outputId": "5332b007-1532-4173-a857-fd29ac461fe7"
      },
      "execution_count": null,
      "outputs": [
        {
          "output_type": "stream",
          "name": "stdout",
          "text": [
            "Element at index 2: apple\n",
            "Element at index 4: [3, 4, 5]\n",
            "Modified list: [1, 10.5, 'apple', True, [3, 4, 5], 'orange']\n"
          ]
        }
      ]
    },
    {
      "cell_type": "code",
      "source": [
        "x = 0\n",
        "\n",
        "while x < 10:\n",
        "  print(\"x=\" + str(x))\n",
        "  x = x - 1\n",
        "  print(\"x=\" + str(x))\n",
        "  break"
      ],
      "metadata": {
        "colab": {
          "base_uri": "https://localhost:8080/"
        },
        "id": "Zc4JUqlsAuQm",
        "outputId": "6540c257-69ce-4163-8372-12ecd6f6d102"
      },
      "execution_count": null,
      "outputs": [
        {
          "output_type": "stream",
          "name": "stdout",
          "text": [
            "x=0\n",
            "x=-1\n"
          ]
        }
      ]
    },
    {
      "cell_type": "markdown",
      "source": [
        "In this example:\n",
        "- `mixed_list` is a list containing an integer, a float, a string, a boolean, and another nested list.\n",
        "- Elements can be accessed and modified regardless of their data type.\n",
        "- The `append` method is used to add a new element (\"orange\") to the end of the list.\n",
        "\n",
        "This flexibility makes lists powerful for handling diverse data in Python."
      ],
      "metadata": {
        "id": "C45yBV1p_fVK"
      }
    },
    {
      "cell_type": "markdown",
      "source": [
        "#### **Handling Heterogeneous Data in Lists**"
      ],
      "metadata": {
        "id": "LBHYehIS_uaS"
      }
    },
    {
      "cell_type": "markdown",
      "source": [
        "In Python, a list can be used to store more than one data type, creating a heterogeneous collection of elements. This flexibility allows a single list to hold elements of different types, such as integers, floats, strings, and more."
      ],
      "metadata": {
        "id": "Mk8mM_yL_x_o"
      }
    },
    {
      "cell_type": "code",
      "source": [
        "# List with heterogeneous data types\n",
        "heterogeneous_list = [1, \"apple\", 3.14, True, [5, 6]]\n",
        "\n",
        "# Accessing elements\n",
        "print(\"Element at index 1:\", heterogeneous_list[1])  # Accessing a string\n",
        "print(\"Element at index 3:\", heterogeneous_list[3])  # Accessing a boolean\n",
        "print(\"Element at index 3:\", heterogeneous_list[4])  # Accessing a boolean\n",
        "\n",
        "# Modifying the list\n",
        "heterogeneous_list[0] = 10  # Modifying an integer\n",
        "heterogeneous_list.append(\"orange\")  # Adding a string to the end\n",
        "# heterogeneous_list[0] = \"apple\"\n",
        "print(\"Modified list:\", heterogeneous_list)"
      ],
      "metadata": {
        "colab": {
          "base_uri": "https://localhost:8080/"
        },
        "id": "VWBWsVo7_1ez",
        "outputId": "a4721ddd-8ef1-4402-c98c-820013783372"
      },
      "execution_count": null,
      "outputs": [
        {
          "output_type": "stream",
          "name": "stdout",
          "text": [
            "Element at index 1: apple\n",
            "Element at index 3: True\n",
            "Element at index 3: [5, 6]\n",
            "Modified list: [10, 'apple', 3.14, True, [5, 6], 'orange']\n"
          ]
        }
      ]
    },
    {
      "cell_type": "markdown",
      "source": [
        "In this example:\n",
        "- `heterogeneous_list` is a list containing elements of different data types.\n",
        "- Elements can be accessed and modified regardless of their data type.\n",
        "- The `append` method is used to add a new element (\"orange\") to the end of the list.\n",
        "\n",
        "This feature makes lists in Python suitable for handling diverse and mixed types of data."
      ],
      "metadata": {
        "id": "PzP5-Ne7_3nt"
      }
    },
    {
      "cell_type": "markdown",
      "source": [
        "#### **Nested Lists in Python**"
      ],
      "metadata": {
        "id": "SxJFTqXgAQcG"
      }
    },
    {
      "cell_type": "markdown",
      "source": [
        "In Python, a list can contain other lists as elements, creating a nested or multidimensional list. This allows for the creation of more complex data structures where each element can be a list itself."
      ],
      "metadata": {
        "id": "Q64vBLSkAU0p"
      }
    },
    {
      "cell_type": "code",
      "source": [
        "# Nested lists\n",
        "outer_list = [1, 2, [3, 4, 5], \"apple\", [\"orange\", \"banana\"]]\n",
        "\n",
        "# Accessing elements\n",
        "print(\"Element at index 2:\", outer_list[2])  # Accessing a nested list\n",
        "print(\"Element at index 4:\", outer_list[4][1])  # Accessing an element in a nested list\n",
        "\n",
        "# Modifying the list\n",
        "outer_list[0] = 10  # Modifying an integer in the outer list\n",
        "outer_list[2][1] = 8  # Modifying an element in the nested list\n",
        "outer_list.append([\"grape\", \"kiwi\"])  # Adding a new nested list\n",
        "print(\"Modified list:\", outer_list)"
      ],
      "metadata": {
        "colab": {
          "base_uri": "https://localhost:8080/"
        },
        "id": "-jzqYTxSAZZV",
        "outputId": "4efe02c4-cc28-4603-d744-306cfc4f3490"
      },
      "execution_count": null,
      "outputs": [
        {
          "output_type": "stream",
          "name": "stdout",
          "text": [
            "Element at index 2: [3, 4, 5]\n",
            "Element at index 4: banana\n",
            "Modified list: [10, 2, [3, 8, 5], 'apple', ['orange', 'banana'], ['grape', 'kiwi']]\n"
          ]
        }
      ]
    },
    {
      "cell_type": "markdown",
      "source": [
        "In this example:\n",
        "- `outer_list` is a list containing elements of various types, including nested lists.\n",
        "- Elements can be accessed and modified, whether they are in the outer list or nested within another list.\n",
        "- The `append` method is used to add a new nested list (`[\"grape\", \"kiwi\"]`) to the end of the outer list.\n",
        "\n",
        "The ability to nest lists provides a powerful way to structure and organize data in Python."
      ],
      "metadata": {
        "id": "NwMMB6qGAbjS"
      }
    },
    {
      "cell_type": "code",
      "source": [
        "# Nested lists\n",
        "outer_list = [1, 2, [3, 4, [5, [6, 7, [8, [9]]]]], \"apple\", [\"orange\", \"banana\"]]\n",
        "\n",
        "# Accessing elements\n",
        "print(\"Element at index 2:\", outer_list[2])  # Accessing a nested list"
      ],
      "metadata": {
        "colab": {
          "base_uri": "https://localhost:8080/"
        },
        "id": "09hO-rlF6T-O",
        "outputId": "41b50954-1f9e-41df-fa01-9e19d591a73f"
      },
      "execution_count": null,
      "outputs": [
        {
          "output_type": "stream",
          "name": "stdout",
          "text": [
            "Element at index 2: [3, 4, [5, [6, 7, [8, [9]]]]]\n"
          ]
        }
      ]
    },
    {
      "cell_type": "markdown",
      "source": [
        "#### **Manipulating Matrices with Nested Lists**"
      ],
      "metadata": {
        "id": "K-HnTHvvApXi"
      }
    },
    {
      "cell_type": "markdown",
      "source": [
        "The ability to use nested lists in Python is highly beneficial when working with matrices or multidimensional arrays. Matrices can be represented as lists of lists, where each inner list corresponds to a row or column.\n",
        "\n",
        "![image](https://qph.cf2.quoracdn.net/main-qimg-8a42228263b908bec0de477a66c0f83e)"
      ],
      "metadata": {
        "id": "l1vIkgj2AtVB"
      }
    },
    {
      "cell_type": "code",
      "source": [
        "# Matrix represented using nested lists\n",
        "matrix = [\n",
        "    [1, 2, 3],\n",
        "    [4, 5, 6],\n",
        "    [7, 8, 9]\n",
        "]\n",
        "\n",
        "# Accessing elements\n",
        "print(\"Element at row 2, column 3:\", matrix[1][2])\n",
        "\n",
        "# Modifying the matrix\n",
        "matrix[0][1] = 10  # Modifying an element in the matrix\n",
        "matrix[2].append(10)  # Adding a new element to the end of the third row\n",
        "print(\"Modified matrix:\", matrix)\n"
      ],
      "metadata": {
        "colab": {
          "base_uri": "https://localhost:8080/"
        },
        "id": "vsH-ABbhAysL",
        "outputId": "ab7d4e43-6a2a-4221-c7ef-3d37f7995d9e"
      },
      "execution_count": null,
      "outputs": [
        {
          "output_type": "stream",
          "name": "stdout",
          "text": [
            "Element at row 2, column 3: 6\n",
            "Modified matrix: [[1, 10, 3], [4, 5, 6], [7, 8, 9, 10]]\n"
          ]
        }
      ]
    },
    {
      "cell_type": "markdown",
      "source": [
        "In this example:\n",
        "- `matrix` is represented using nested lists, where each inner list corresponds to a row.\n",
        "- Elements can be accessed and modified in a matrix-like fashion.\n",
        "- The `append` method is used to add a new element (`10`) to the end of the third row.\n",
        "\n",
        "This approach simplifies the manipulation and representation of matrices in Python programs."
      ],
      "metadata": {
        "id": "bL799iEGA1j9"
      }
    },
    {
      "cell_type": "markdown",
      "source": [
        "#### **Determining the Length of a List**"
      ],
      "metadata": {
        "id": "edkswH0HBaUg"
      }
    },
    {
      "cell_type": "markdown",
      "source": [
        "In Python, the length of a list is determined by the number of elements it contains. The `len()` function is used to retrieve the length or the number of elements in a list."
      ],
      "metadata": {
        "id": "h3M29NgABg-b"
      }
    },
    {
      "cell_type": "code",
      "source": [
        "# List with elements\n",
        "fruits = [\"apple\", \"banana\", \"orange\", \"grape\"]\n",
        "\n",
        "# Displaying the length of the list\n",
        "length_of_fruits = len(fruits)\n",
        "print(\"Length of the list:\", length_of_fruits)"
      ],
      "metadata": {
        "colab": {
          "base_uri": "https://localhost:8080/"
        },
        "id": "92tPYXO4BlGx",
        "outputId": "f2df698c-7dec-4d8f-d21d-0222d102acf7"
      },
      "execution_count": null,
      "outputs": [
        {
          "output_type": "stream",
          "name": "stdout",
          "text": [
            "Length of the list: 4\n"
          ]
        }
      ]
    },
    {
      "cell_type": "markdown",
      "source": [
        "In this example:\n",
        "- The list `fruits` contains four elements.\n",
        "- The `len()` function is used to determine the length of the list.\n",
        "- The result is displayed using the `print` statement.\n",
        "\n",
        "The `len()` function is a useful tool for obtaining information about the size of a list in Python."
      ],
      "metadata": {
        "id": "_LXXtR0MBnJr"
      }
    },
    {
      "cell_type": "markdown",
      "source": [
        "#### **Irregular Nested Lists**"
      ],
      "metadata": {
        "id": "rdqrv8P3BHQs"
      }
    },
    {
      "cell_type": "markdown",
      "source": [
        "In Python, nested lists are not restricted to having a perfect matrix-like structure. Lists can contain other lists of different sizes and even elements of different types. This flexibility allows the creation of irregular or jagged nested lists."
      ],
      "metadata": {
        "id": "RVJ8ciFdBL05"
      }
    },
    {
      "cell_type": "code",
      "source": [
        "# Irregular nested list\n",
        "irregular_list = [1, [2, 3], [4, 5, 6], \"apple\", [\"orange\", 8, 9]]\n",
        "\n",
        "# Accessing elements\n",
        "print(\"Element at index 2:\", irregular_list[2])  # Accessing a nested list\n",
        "print(\"Element at index 4, element 1:\", irregular_list[4][0])  # Accessing an element in a nested list\n",
        "\n",
        "# Modifying the list\n",
        "irregular_list[0] = 10  # Modifying an integer\n",
        "irregular_list[2][1] = 7  # Modifying an element in the nested list\n",
        "irregular_list.append([\"grape\", 10, \"kiwi\"])  # Adding a new nested list\n",
        "print(\"Modified list:\", irregular_list)"
      ],
      "metadata": {
        "colab": {
          "base_uri": "https://localhost:8080/"
        },
        "id": "eCJ8UJ4-BPd1",
        "outputId": "f83d75ec-1c27-4809-d588-ade86c8f88fa"
      },
      "execution_count": null,
      "outputs": [
        {
          "output_type": "stream",
          "name": "stdout",
          "text": [
            "Element at index 2: [4, 5, 6]\n",
            "Element at index 4, element 1: orange\n",
            "Modified list: [10, [2, 3], [4, 7, 6], 'apple', ['orange', 8, 9], ['grape', 10, 'kiwi']]\n"
          ]
        }
      ]
    },
    {
      "cell_type": "markdown",
      "source": [
        "In this example:\n",
        "- `irregular_list` is a nested list with irregular sizes and different types of elements.\n",
        "- Elements can be accessed and modified, regardless of the structure.\n",
        "- The `append` method is used to add a new nested list (`[\"grape\", 10, \"kiwi\"]`) to the end of the list.\n",
        "\n",
        "This flexibility allows for the creation of more complex and diverse data structures in Python."
      ],
      "metadata": {
        "id": "sNwOy_9YBRtb"
      }
    },
    {
      "cell_type": "markdown",
      "source": [
        "#### **List Indexing and Slicing**"
      ],
      "metadata": {
        "id": "F7J33fMYB7kK"
      }
    },
    {
      "cell_type": "markdown",
      "source": [
        "**Indexing:**\n",
        "- Indexing in Python lists starts from 0. Each element in the list has a unique index.\n",
        "- Positive indexing refers to counting from the beginning of the list (starting with 0).\n",
        "- Negative indexing refers to counting from the end of the list (starting with -1 for the last element).\n",
        "\n",
        "**Slicing:**\n",
        "- Slicing allows extracting a portion of a list, creating a new list.\n",
        "- The syntax for slicing is `list[start:stop:step]`, where `start` is the beginning index, `stop` is the ending index (exclusive), and `step` is the interval."
      ],
      "metadata": {
        "id": "xKqMNQIjCAHd"
      }
    },
    {
      "cell_type": "code",
      "source": [
        "# List for indexing and slicing\n",
        "numbers = [0, 1, 2, 3, 4, 5, 6, 7, 8, 9]"
      ],
      "metadata": {
        "id": "S9TsraRbCwCq"
      },
      "execution_count": null,
      "outputs": []
    },
    {
      "cell_type": "code",
      "source": [
        "# Indexing\n",
        "print(\"Element at index 3:\", numbers[3])       # Positive indexing\n",
        "print(\"Element at index -2:\", numbers[-2])     # Negative indexing"
      ],
      "metadata": {
        "colab": {
          "base_uri": "https://localhost:8080/"
        },
        "id": "xxbu5Wp1CGCN",
        "outputId": "5aae7009-ea82-4cee-a6f7-eee878e14856"
      },
      "execution_count": null,
      "outputs": [
        {
          "output_type": "stream",
          "name": "stdout",
          "text": [
            "Element at index 3: 3\n",
            "Element at index -2: 8\n"
          ]
        }
      ]
    },
    {
      "cell_type": "code",
      "source": [
        "alphabets = ['a', 'b', 'c', 'd', 'e']\n",
        "print(alphabets[1:3])"
      ],
      "metadata": {
        "colab": {
          "base_uri": "https://localhost:8080/"
        },
        "id": "t6I9EK7oC5Kt",
        "outputId": "4c2419a4-377f-4dbb-93ea-53cd19d19913"
      },
      "execution_count": null,
      "outputs": [
        {
          "output_type": "stream",
          "name": "stdout",
          "text": [
            "['b', 'c']\n"
          ]
        }
      ]
    },
    {
      "cell_type": "code",
      "source": [
        "# Slicing\n",
        "print(\"Sliced elements:\", numbers[2:7])        # Elements from index 2 to 6\n",
        "print(\"Sliced with step:\", numbers[1:9:2])     # Elements from index 1 to 8 with a step of 2\n",
        "print(\"Sliced in reverse:\", numbers[::-1])     # All elements in reverse order"
      ],
      "metadata": {
        "colab": {
          "base_uri": "https://localhost:8080/"
        },
        "id": "-5040031CtKH",
        "outputId": "c2039a5d-9056-4395-f13f-fde2568b9a3f"
      },
      "execution_count": null,
      "outputs": [
        {
          "output_type": "stream",
          "name": "stdout",
          "text": [
            "Sliced elements: [2, 3, 4, 5, 6]\n",
            "Sliced with step: [1, 3, 5, 7]\n",
            "Sliced in reverse: [9, 8, 7, 6, 5, 4, 3, 2, 1, 0]\n"
          ]
        }
      ]
    },
    {
      "cell_type": "markdown",
      "source": [
        "In this example:\n",
        "- Positive and negative indexing are demonstrated.\n",
        "- Slicing is used to extract specific portions of the list.\n",
        "- Different slicing techniques, such as using steps and reversing the list, are shown.\n",
        "\n",
        "Understanding indexing and slicing is crucial for efficient manipulation of data in Python lists."
      ],
      "metadata": {
        "id": "_uhwFnzRCIKN"
      }
    },
    {
      "cell_type": "markdown",
      "source": [
        "#### **Manipulating Elements in a List**"
      ],
      "metadata": {
        "id": "qSRVWARzCW6y"
      }
    },
    {
      "cell_type": "markdown",
      "source": [
        "\n",
        "**Adding Elements:**\n",
        "- Elements can be added to the end of a list using the `append()` method.\n",
        "- Multiple elements can be added at once using the `extend()` method or the `+` operator.\n",
        "\n",
        "**Removing Elements:**\n",
        "- Elements can be removed by specifying the value using the `remove()` method.\n",
        "- The `pop()` method removes and returns the element at a specific index.\n",
        "- The `del` statement can be used to remove elements or slices based on index."
      ],
      "metadata": {
        "id": "EJNKjOt8CZVF"
      }
    },
    {
      "cell_type": "code",
      "source": [
        "# List for manipulation\n",
        "fruits = [\"apple\", \"banana\", \"orange\", \"grape\"]"
      ],
      "metadata": {
        "id": "FipLXCIOCyZo"
      },
      "execution_count": null,
      "outputs": []
    },
    {
      "cell_type": "code",
      "source": [
        "# Adding elements\n",
        "fruits.append(\"kiwi\")                 # Adding a single element\n",
        "fruits.extend([\"melon\", \"pineapple\"])  # Adding multiple elements\n",
        "fruits += [\"peach\", \"mango\"]           # Another way to add multiple elements\n",
        "\n",
        "# Displaying the modified list\n",
        "print(\"List after adding elements:\", fruits)"
      ],
      "metadata": {
        "colab": {
          "base_uri": "https://localhost:8080/"
        },
        "id": "ukeJUnQlCeA3",
        "outputId": "877cb1ac-bf91-4a2c-d86d-1ef637df1655"
      },
      "execution_count": null,
      "outputs": [
        {
          "output_type": "stream",
          "name": "stdout",
          "text": [
            "List after adding elements: ['apple', 'banana', 'orange', 'grape', 'kiwi', 'melon', 'pineapple', 'peach', 'mango']\n"
          ]
        }
      ]
    },
    {
      "cell_type": "code",
      "source": [
        "# Removing elements\n",
        "fruits.remove(\"banana\")        # Removing a specific element\n",
        "removed_element = fruits.pop(2) # Removing and returning element at index 2\n",
        "del fruits[0]                   # Removing element at index 0\n",
        "\n",
        "# Displaying the modified list\n",
        "print(\"List after removing elements:\", fruits)\n",
        "print(\"Removed element:\", removed_element)"
      ],
      "metadata": {
        "colab": {
          "base_uri": "https://localhost:8080/"
        },
        "id": "aZoB212JCotL",
        "outputId": "c3df24a6-ad8e-41fc-f534-de282ea2708c"
      },
      "execution_count": null,
      "outputs": [
        {
          "output_type": "stream",
          "name": "stdout",
          "text": [
            "List after removing elements: ['orange', 'kiwi', 'melon', 'pineapple', 'peach', 'mango']\n",
            "Removed element: grape\n"
          ]
        }
      ]
    },
    {
      "cell_type": "markdown",
      "source": [
        "In this example:\n",
        "- Elements are added using `append()`, `extend()`, and the `+` operator.\n",
        "- Elements are removed using `remove()`, `pop()`, and the `del` statement.\n",
        "\n",
        "These operations allow for dynamic modification of lists in Python."
      ],
      "metadata": {
        "id": "D9wG-KwuCf4t"
      }
    },
    {
      "cell_type": "markdown",
      "source": [
        "#### **Checking Elements in a List**"
      ],
      "metadata": {
        "id": "FYJrGMawC-6y"
      }
    },
    {
      "cell_type": "markdown",
      "source": [
        "**Using `in` and `not in` Operators:**\n",
        "- The `in` operator checks if an element exists in a list.\n",
        "- The `not in` operator checks if an element does not exist in a list.\n",
        "- Both operators return a boolean value."
      ],
      "metadata": {
        "id": "pg_Fqm70DDQL"
      }
    },
    {
      "cell_type": "code",
      "source": [
        "# List for element checks\n",
        "colors = [\"red\", \"blue\", \"green\", \"yellow\", \"orange\"]"
      ],
      "metadata": {
        "id": "HQO1FblYDHIx"
      },
      "execution_count": null,
      "outputs": []
    },
    {
      "cell_type": "code",
      "source": [
        "# Using 'in' operator\n",
        "print(\"Is 'blue' in the list?\", 'blue' in colors)\n",
        "print(\"Is 'purple' in the list?\", 'purple' in colors)"
      ],
      "metadata": {
        "colab": {
          "base_uri": "https://localhost:8080/"
        },
        "id": "2tgkMyH4DLzL",
        "outputId": "1a84d802-c514-4cec-ed54-648a166072f6"
      },
      "execution_count": null,
      "outputs": [
        {
          "output_type": "stream",
          "name": "stdout",
          "text": [
            "Is 'blue' in the list? True\n",
            "Is 'purple' in the list? False\n"
          ]
        }
      ]
    },
    {
      "cell_type": "code",
      "source": [
        "# Using 'not in' operator\n",
        "print(\"Is 'green' not in the list?\", 'green' not in colors)\n",
        "print(\"Is 'yellow' not in the list?\", 'yellow' not in colors)"
      ],
      "metadata": {
        "colab": {
          "base_uri": "https://localhost:8080/"
        },
        "id": "De_SD-J5DLkr",
        "outputId": "71a2c497-4935-4ae6-9cc4-810ac1682234"
      },
      "execution_count": null,
      "outputs": [
        {
          "output_type": "stream",
          "name": "stdout",
          "text": [
            "Is 'green' not in the list? False\n",
            "Is 'yellow' not in the list? False\n"
          ]
        }
      ]
    },
    {
      "cell_type": "markdown",
      "source": [
        "In this example:\n",
        "- The `in` operator is used to check if \"blue\" and \"purple\" exist in the list.\n",
        "- The `not in` operator is used to check if \"green\" and \"yellow\" do not exist in the list.\n",
        "\n",
        "These operators are useful for conditional checks and decision-making based on the presence or absence of elements in a list."
      ],
      "metadata": {
        "id": "FDwRxSXjDJjq"
      }
    },
    {
      "cell_type": "markdown",
      "source": [
        "#### **Searching for Elements in a List**"
      ],
      "metadata": {
        "id": "JzdJ8vMEDXPL"
      }
    },
    {
      "cell_type": "markdown",
      "source": [
        "**Using the `index()` Function:**\n",
        "- The `index()` function is used to find the index of a specific element in a list.\n",
        "- If the element is found, the function returns the index of the first occurrence.\n",
        "- If the element is not found, it raises a `ValueError`."
      ],
      "metadata": {
        "id": "lLNrhwpvDaB2"
      }
    },
    {
      "cell_type": "code",
      "source": [
        "# List for searching\n",
        "numbers = [10, 20, 30, 40, 50, 20, 60]\n",
        "\n",
        "# Using 'index()' function\n",
        "index_of_30 = numbers.index(30)\n",
        "print(\"Index of 30:\", index_of_30)\n",
        "\n",
        "# Trying to find the index of a non-existing element\n",
        "try:\n",
        "    index_of_70 = numbers.index(70)\n",
        "    print(\"Index of 70:\", index_of_70)\n",
        "except ValueError:\n",
        "    print(\"Element 70 not found in the list.\")"
      ],
      "metadata": {
        "colab": {
          "base_uri": "https://localhost:8080/"
        },
        "id": "z9aVoAWIDkOs",
        "outputId": "23aee5b4-339f-43c4-eea0-63eb9de25b11"
      },
      "execution_count": null,
      "outputs": [
        {
          "output_type": "stream",
          "name": "stdout",
          "text": [
            "Index of 30: 2\n",
            "Element 70 not found in the list.\n"
          ]
        }
      ]
    },
    {
      "cell_type": "markdown",
      "source": [
        "In this example:\n",
        "- The `index()` function is used to find the index of the element \"30\" in the list.\n",
        "- An attempt is made to find the index of the non-existing element \"70,\" resulting in a `ValueError` being caught.\n",
        "\n",
        "The `index()` function is useful for locating the position of a specific element within a list."
      ],
      "metadata": {
        "id": "q_-VmEF5DmfR"
      }
    },
    {
      "cell_type": "markdown",
      "source": [
        "#### **Sorting a List**"
      ],
      "metadata": {
        "id": "2l2Q-_acDxiX"
      }
    },
    {
      "cell_type": "markdown",
      "source": [
        "**Using the `sort()` Method:**\n",
        "- The `sort()` method is used to sort a list in-place, meaning it modifies the original list.\n",
        "- It arranges the elements in ascending order by default.\n",
        "- The `reverse` parameter can be set to `True` to sort in descending order.\n",
        "\n",
        "**Using the `sorted()` Function:**\n",
        "- The `sorted()` function creates a new sorted list from the elements of the original list.\n",
        "- It does not modify the original list.\n",
        "- Like `sort()`, the `reverse` parameter can be used to sort in descending order."
      ],
      "metadata": {
        "id": "4ebn4913D0VW"
      }
    },
    {
      "cell_type": "code",
      "source": [
        "# List for sorting\n",
        "numbers = [40, 10, 30, 20, 50]\n",
        "\n",
        "# Using 'sort()' method\n",
        "numbers.sort()\n",
        "print(\"Sorted list using 'sort()':\", numbers)\n",
        "\n",
        "# Using 'sorted()' function\n",
        "sorted_numbers = sorted(numbers, reverse=True)\n",
        "print(\"Original list:\", numbers)\n",
        "print(\"Sorted list using 'sorted()':\", sorted_numbers)"
      ],
      "metadata": {
        "colab": {
          "base_uri": "https://localhost:8080/"
        },
        "id": "cgLvy8z9D3LF",
        "outputId": "b36d9a49-78fc-46bd-8951-c06009e7560c"
      },
      "execution_count": null,
      "outputs": [
        {
          "output_type": "stream",
          "name": "stdout",
          "text": [
            "Sorted list using 'sort()': [10, 20, 30, 40, 50]\n",
            "Original list: [10, 20, 30, 40, 50]\n",
            "Sorted list using 'sorted()': [50, 40, 30, 20, 10]\n"
          ]
        }
      ]
    },
    {
      "cell_type": "markdown",
      "source": [
        "In this example:\n",
        "- The `sort()` method is used to sort the list `numbers` in ascending order.\n",
        "- The `sorted()` function creates a new sorted list (`sorted_numbers`) in descending order without modifying the original list.\n",
        "\n",
        "Both approaches provide a way to organize the elements of a list in a specified order."
      ],
      "metadata": {
        "id": "sdNYxssQD4_P"
      }
    },
    {
      "cell_type": "markdown",
      "source": [
        "#### **Deleting Elements from a List**"
      ],
      "metadata": {
        "id": "pOdZuP4fEDci"
      }
    },
    {
      "cell_type": "markdown",
      "source": [
        "1. **Using the `del` Statement:**\n",
        "   - The `del` statement is used to remove elements from a list based on their index.\n",
        "   - It can also be used to delete the entire list or a slice of the list.\n",
        "\n",
        "2. **Using the `remove()` Method:**\n",
        "   - The `remove()` method is used to remove a specific element from the list.\n",
        "   - If the element appears multiple times, only the first occurrence is removed.\n",
        "   - If the element is not found, it raises a `ValueError`.\n",
        "\n",
        "3. **Using the `clear()` Method:**\n",
        "   - The `clear()` method is used to remove all elements from the list, making it empty."
      ],
      "metadata": {
        "id": "8gZy643UEIdw"
      }
    },
    {
      "cell_type": "code",
      "source": [
        "# List for deletion\n",
        "colors = [\"red\", \"green\", \"blue\", \"yellow\", \"green\"]"
      ],
      "metadata": {
        "id": "UbLRva-iELUS"
      },
      "execution_count": null,
      "outputs": []
    },
    {
      "cell_type": "code",
      "source": [
        "# Using 'del' statement\n",
        "del colors[2]  # Deleting element at index 2\n",
        "print(\"List after 'del' statement:\", colors)"
      ],
      "metadata": {
        "colab": {
          "base_uri": "https://localhost:8080/"
        },
        "id": "uT67KpO6EU7K",
        "outputId": "b728d6f7-4cc8-4f54-f733-159cb11bbed8"
      },
      "execution_count": null,
      "outputs": [
        {
          "output_type": "stream",
          "name": "stdout",
          "text": [
            "List after 'del' statement: ['red', 'green', 'yellow', 'green']\n"
          ]
        }
      ]
    },
    {
      "cell_type": "code",
      "source": [
        "# Using 'remove()' method\n",
        "colors.remove(\"green\")  # Removing the first occurrence of \"green\"\n",
        "print(\"List after 'remove()' method:\", colors)"
      ],
      "metadata": {
        "colab": {
          "base_uri": "https://localhost:8080/"
        },
        "id": "FRZSiib7EWaT",
        "outputId": "1ed2b97c-ecb8-49de-801f-de40e224d16c"
      },
      "execution_count": null,
      "outputs": [
        {
          "output_type": "stream",
          "name": "stdout",
          "text": [
            "List after 'remove()' method: ['red', 'yellow', 'green']\n"
          ]
        }
      ]
    },
    {
      "cell_type": "code",
      "source": [
        "removed_colors = colors.pop(2)\n",
        "print(removed_colors)\n",
        "print(\"List after 'pop()' method:\", colors)"
      ],
      "metadata": {
        "colab": {
          "base_uri": "https://localhost:8080/"
        },
        "id": "XHbCtskZ8IC-",
        "outputId": "fd77e693-80ea-4637-8d71-b1070f4ccf36"
      },
      "execution_count": null,
      "outputs": [
        {
          "output_type": "stream",
          "name": "stdout",
          "text": [
            "green\n",
            "List after 'pop()' method: ['red', 'yellow']\n"
          ]
        }
      ]
    },
    {
      "cell_type": "code",
      "source": [
        "# Using 'clear()' method\n",
        "colors.clear()  # Removing all elements\n",
        "print(\"List after 'clear()' method:\", colors)"
      ],
      "metadata": {
        "colab": {
          "base_uri": "https://localhost:8080/"
        },
        "id": "RSv5EYhAEX3D",
        "outputId": "03c21847-8dbb-4ab2-929b-8d2cf3a85457"
      },
      "execution_count": null,
      "outputs": [
        {
          "output_type": "stream",
          "name": "stdout",
          "text": [
            "List after 'clear()' method: []\n"
          ]
        }
      ]
    },
    {
      "cell_type": "markdown",
      "source": [
        "In this example:\n",
        "- The `del` statement is used to delete the element at index 2.\n",
        "- The `remove()` method is used to remove the first occurrence of the element \"green.\"\n",
        "- The `clear()` method is used to remove all elements, resulting in an empty list.\n",
        "\n",
        "These methods provide flexibility for deleting specific elements or clearing the entire list."
      ],
      "metadata": {
        "id": "6LX6Ei4dENRK"
      }
    },
    {
      "cell_type": "markdown",
      "source": [
        "#### **Copying a List**"
      ],
      "metadata": {
        "id": "QfhIxRR1EimW"
      }
    },
    {
      "cell_type": "markdown",
      "source": [
        "**Using the Assignment Operator (`=`):**\n",
        "- The assignment operator (`=`) can be used to create a copy of a list.\n",
        "- Changes made to the copy will affect the original list, and vice versa.\n",
        "\n",
        "**Using the `copy()` Method:**\n",
        "- The `copy()` method is specifically designed for creating a shallow copy of a list.\n",
        "- The copy created using `copy()` is independent of the original list, meaning changes to one do not affect the other.\n",
        "\n"
      ],
      "metadata": {
        "id": "8UhpBdysEn1J"
      }
    },
    {
      "cell_type": "code",
      "source": [
        "# Original list\n",
        "original_list = [1, 2, 3, 4, 5]\n",
        "\n",
        "# Using assignment operator to create a copy\n",
        "copied_list_1 = original_list\n",
        "\n",
        "# Using 'copy()' method to create a copy\n",
        "copied_list_2 = original_list.copy()\n",
        "\n",
        "# Modifying the copied lists\n",
        "copied_list_1[0] = 10\n",
        "copied_list_2[1] = 20\n",
        "\n",
        "# Displaying the results\n",
        "print(\"Original list:\", original_list)\n",
        "print(\"List copied with assignment operator:\", copied_list_1)\n",
        "print(\"List copied with 'copy()' method:\", copied_list_2)"
      ],
      "metadata": {
        "colab": {
          "base_uri": "https://localhost:8080/"
        },
        "id": "Az4c89KtEqGK",
        "outputId": "7f91d0ae-757f-40ec-e35f-892786aeff2f"
      },
      "execution_count": null,
      "outputs": [
        {
          "output_type": "stream",
          "name": "stdout",
          "text": [
            "Original list: [10, 2, 3, 4, 5]\n",
            "List copied with assignment operator: [10, 2, 3, 4, 5]\n",
            "List copied with 'copy()' method: [1, 20, 3, 4, 5]\n"
          ]
        }
      ]
    },
    {
      "cell_type": "markdown",
      "source": [
        "In this example:\n",
        "- The assignment operator (`=`) is used to create `copied_list_1`, which is a reference to the original list.\n",
        "- The `copy()` method is used to create `copied_list_2`, which is an independent copy of the original list.\n",
        "- Modifying `copied_list_1` affects the original list, while modifying `copied_list_2` does not.\n",
        "\n",
        "Using the `copy()` method is advisable when you want an independent copy of a list to avoid unintended modifications."
      ],
      "metadata": {
        "id": "CvPh1ykNEu6p"
      }
    },
    {
      "cell_type": "markdown",
      "source": [
        "#### **Unpacking a List**"
      ],
      "metadata": {
        "id": "8bRQUxHHE2YP"
      }
    },
    {
      "cell_type": "markdown",
      "source": [
        "Unpacking a list allows you to assign values to multiple variables at once based on the elements of the list."
      ],
      "metadata": {
        "id": "JuuMxcYdE8AU"
      }
    },
    {
      "cell_type": "code",
      "source": [
        "# List for unpacking\n",
        "student_info = [\"John Doe\", 20, \"Computer Science\"]\n",
        "\n",
        "# Unpacking the list into variables\n",
        "name, age, major = student_info\n",
        "\n",
        "# Displaying the unpacked values\n",
        "print(\"Name:\", name)\n",
        "print(\"Age:\", age)\n",
        "print(\"Major:\", major)"
      ],
      "metadata": {
        "colab": {
          "base_uri": "https://localhost:8080/"
        },
        "id": "uzpNLu4CE-48",
        "outputId": "5bdbc571-079d-4174-f0af-2f15dbeebc0f"
      },
      "execution_count": null,
      "outputs": [
        {
          "output_type": "stream",
          "name": "stdout",
          "text": [
            "Name: John Doe\n",
            "Age: 20\n",
            "Major: Computer Science\n"
          ]
        }
      ]
    },
    {
      "cell_type": "markdown",
      "source": [
        "In this example:\n",
        "- The list `student_info` contains information about a student.\n",
        "- The elements of the list are unpacked into variables `name`, `age`, and `major` in a single line.\n",
        "\n",
        "Unpacking is a convenient way to assign values from a list to multiple variables, especially when the number of variables matches the number of elements in the list."
      ],
      "metadata": {
        "id": "V0FHRtQmFBGF"
      }
    },
    {
      "cell_type": "markdown",
      "source": [
        "### **Tuple**"
      ],
      "metadata": {
        "id": "9yM53WTm8_K4"
      }
    },
    {
      "cell_type": "markdown",
      "source": [
        "A tuple is created by providing identifiers and data, with each data separated by a comma (`,`). The tuple can be enclosed in parentheses `()` for readability, although it's not mandatory.\n",
        "\n",
        "Key characteristics of tuples:\n",
        "- Immutable: Once a tuple is created, its elements cannot be changed or added.\n",
        "- Ordered: Elements in a tuple maintain the order of insertion.\n",
        "- Allows elements of different data types.\n",
        "- Can be nested, allowing the creation of more complex data structures.\n",
        "\n",
        "Tuples are commonly used when you want to represent a collection of items that should remain constant throughout the program."
      ],
      "metadata": {
        "id": "XY6h15jtP7DQ"
      }
    },
    {
      "cell_type": "markdown",
      "source": [
        "#### **Example**"
      ],
      "metadata": {
        "id": "6bz-Ik5YQIEg"
      }
    },
    {
      "cell_type": "code",
      "source": [
        "# Creating tuples\n",
        "fruits = 'apple', 'orange', 'banana', 'grape'\n",
        "numbers = 5, 10, 15, 20\n",
        "decimal_numbers = (2.5, -1.8, 4.7, 0.3)\n",
        "conditions = (False, True, True, False)\n",
        "\n",
        "# Displaying tuples\n",
        "print(fruits)\n",
        "print(numbers)\n",
        "print(decimal_numbers)\n",
        "print(conditions)"
      ],
      "metadata": {
        "colab": {
          "base_uri": "https://localhost:8080/"
        },
        "id": "69dA6cSpP-X6",
        "outputId": "cf436d32-0a60-4e21-fbf5-3563ba41854c"
      },
      "execution_count": null,
      "outputs": [
        {
          "output_type": "stream",
          "name": "stdout",
          "text": [
            "('apple', 'orange', 'banana', 'grape')\n",
            "(5, 10, 15, 20)\n",
            "(2.5, -1.8, 4.7, 0.3)\n",
            "(False, True, True, False)\n"
          ]
        }
      ]
    },
    {
      "cell_type": "code",
      "source": [
        "# Checking the type of 'fruits'\n",
        "type(fruits)"
      ],
      "metadata": {
        "colab": {
          "base_uri": "https://localhost:8080/"
        },
        "id": "7qmaEyJJQuFN",
        "outputId": "45221df7-25c3-4fe5-d0a4-41785b7566a4"
      },
      "execution_count": null,
      "outputs": [
        {
          "output_type": "execute_result",
          "data": {
            "text/plain": [
              "tuple"
            ]
          },
          "metadata": {},
          "execution_count": 71
        }
      ]
    },
    {
      "cell_type": "markdown",
      "source": [
        "In this example:\n",
        "- `fruits` is a tuple of strings representing different fruits.\n",
        "- `numbers` is a tuple of integers.\n",
        "- `decimal_numbers` is a tuple of floating-point numbers.\n",
        "- `conditions` is a tuple of boolean values.\n",
        "\n",
        "The `type()` function is used to check the type of the `fruits` tuple, confirming that it is indeed a tuple. Tuples can hold a variety of data types and are flexible in their usage."
      ],
      "metadata": {
        "id": "wjMqwztfQZBQ"
      }
    },
    {
      "cell_type": "markdown",
      "source": [
        "#### **Tuple with Heterogeneous Elements and Nested Tuple**"
      ],
      "metadata": {
        "id": "W6SarcxAQ7sp"
      }
    },
    {
      "cell_type": "markdown",
      "source": [
        "Tuples in Python can contain elements of different data types, and they can also include other tuples."
      ],
      "metadata": {
        "id": "FvgpYu5fQ99w"
      }
    },
    {
      "cell_type": "code",
      "source": [
        "# Tuple with heterogeneous elements\n",
        "mixed_tuple = (1, \"two\", 3.0, True)\n",
        "\n",
        "# Nested tuple\n",
        "nested_tuple = ((1, 2), (\"a\", \"b\"))\n",
        "\n",
        "# Displaying tuples\n",
        "print(\"Mixed tuple:\", mixed_tuple)\n",
        "print(\"Nested tuple:\", nested_tuple)"
      ],
      "metadata": {
        "colab": {
          "base_uri": "https://localhost:8080/"
        },
        "id": "KS_1QnseRBi7",
        "outputId": "4ffa5361-fb94-4426-d7f6-2eeed50a0dfc"
      },
      "execution_count": null,
      "outputs": [
        {
          "output_type": "stream",
          "name": "stdout",
          "text": [
            "Mixed tuple: (1, 'two', 3.0, True)\n",
            "Nested tuple: ((1, 2), ('a', 'b'))\n"
          ]
        }
      ]
    },
    {
      "cell_type": "markdown",
      "source": [
        "In this example:\n",
        "- `mixed_tuple` is a tuple that includes elements of different data types (integer, string, float, boolean).\n",
        "- `nested_tuple` is a tuple containing other tuples as its elements.\n",
        "\n",
        "Tuples, with their flexibility, allow for the creation of more complex data structures and can be used to represent a wide range of scenarios in programming."
      ],
      "metadata": {
        "id": "W-n8Ilg5RDdH"
      }
    },
    {
      "cell_type": "markdown",
      "source": [
        "#### **Converting List to Tuple and Vice Versa**"
      ],
      "metadata": {
        "id": "ylHijSKXRM7i"
      }
    },
    {
      "cell_type": "markdown",
      "source": [
        "A list can be converted to a tuple using the `tuple()` function, and similarly, a tuple can be converted to a list using the `list()` function."
      ],
      "metadata": {
        "id": "5z9od7dPRPs2"
      }
    },
    {
      "cell_type": "code",
      "source": [
        "# Converting list to tuple\n",
        "numbers_list = [1, 2, 3, 4, 5]\n",
        "numbers_tuple = tuple(numbers_list)\n",
        "\n",
        "# Converting tuple to list\n",
        "fruits_tuple = ('apple', 'orange', 'banana', 'grape')\n",
        "fruits_list = list(fruits_tuple)\n",
        "\n",
        "# Displaying the results\n",
        "print(\"List to Tuple:\", numbers_tuple)\n",
        "print(\"Tuple to List:\", fruits_list)"
      ],
      "metadata": {
        "colab": {
          "base_uri": "https://localhost:8080/"
        },
        "id": "e-DtqTrORTVp",
        "outputId": "a42007ad-cc87-439e-8f37-cdda348f2cd6"
      },
      "execution_count": null,
      "outputs": [
        {
          "output_type": "stream",
          "name": "stdout",
          "text": [
            "List to Tuple: (1, 2, 3, 4, 5)\n",
            "Tuple to List: ['apple', 'orange', 'banana', 'grape']\n"
          ]
        }
      ]
    },
    {
      "cell_type": "markdown",
      "source": [
        "In this example:\n",
        "- `numbers_list` is a list of integers, and it is converted to a tuple named `numbers_tuple`.\n",
        "- `fruits_tuple` is a tuple of strings, and it is converted to a list named `fruits_list`.\n",
        "\n",
        "These conversions are useful when you need to switch between lists and tuples based on the requirements of your program."
      ],
      "metadata": {
        "id": "wT4kYKHJRVMG"
      }
    },
    {
      "cell_type": "markdown",
      "source": [
        "#### **Tuple Indexing & Slicing**"
      ],
      "metadata": {
        "id": "Ey1o21AYReDv"
      }
    },
    {
      "cell_type": "markdown",
      "source": [
        "**Tuple Indexing & Slicing:**\n",
        "\n",
        "Indexing and slicing in tuples work similarly to lists. Elements in a tuple can be accessed using their index, and slices can be taken to obtain sub-tuples."
      ],
      "metadata": {
        "id": "CDqZo9AdRglU"
      }
    },
    {
      "cell_type": "code",
      "source": [
        "# Tuple for indexing and slicing\n",
        "colors_tuple = (\"red\", \"green\", \"blue\", \"yellow\", \"purple\")\n",
        "\n",
        "# Indexing\n",
        "first_color = colors_tuple[0]\n",
        "last_color = colors_tuple[-1]\n",
        "\n",
        "# Slicing\n",
        "selected_colors = colors_tuple[1:4]  # Elements at index 1, 2, 3\n",
        "\n",
        "# Displaying the results\n",
        "print(\"First color:\", first_color)\n",
        "print(\"Last color:\", last_color)\n",
        "print(\"Selected colors:\", selected_colors)"
      ],
      "metadata": {
        "colab": {
          "base_uri": "https://localhost:8080/"
        },
        "id": "bwt3zA8-RjTx",
        "outputId": "3f736df6-bf60-4761-b1ca-d4207dfe0e2f"
      },
      "execution_count": null,
      "outputs": [
        {
          "output_type": "stream",
          "name": "stdout",
          "text": [
            "First color: red\n",
            "Last color: purple\n",
            "Selected colors: ('green', 'blue', 'yellow')\n"
          ]
        }
      ]
    },
    {
      "cell_type": "markdown",
      "source": [
        "In this example:\n",
        "- `colors_tuple` is a tuple of strings.\n",
        "- Indexing is used to access the first and last elements of the tuple.\n",
        "- Slicing is used to create a sub-tuple containing elements from index 1 to 3 (inclusive).\n",
        "\n",
        "Just like lists, tuples support indexing and slicing operations, making it easy to retrieve specific elements or create sub-tuples."
      ],
      "metadata": {
        "id": "MchNngMFRlWK"
      }
    },
    {
      "cell_type": "markdown",
      "source": [
        "#### **Tuple Manipulation**"
      ],
      "metadata": {
        "id": "84CpdtvnSClJ"
      }
    },
    {
      "cell_type": "code",
      "source": [
        "party = (\"pdip\", \"demokrat\", \"gerindra\", \"golkar\")\n",
        "party[1] = \"psi\"\n",
        "print(party)"
      ],
      "metadata": {
        "colab": {
          "base_uri": "https://localhost:8080/",
          "height": 176
        },
        "id": "Ugoo5AzjEbVr",
        "outputId": "b01d1b44-aabf-486c-f80d-4ec244db8290"
      },
      "execution_count": null,
      "outputs": [
        {
          "output_type": "error",
          "ename": "TypeError",
          "evalue": "'tuple' object does not support item assignment",
          "traceback": [
            "\u001b[0;31m---------------------------------------------------------------------------\u001b[0m",
            "\u001b[0;31mTypeError\u001b[0m                                 Traceback (most recent call last)",
            "\u001b[0;32m<ipython-input-49-5ba007d48c00>\u001b[0m in \u001b[0;36m<cell line: 2>\u001b[0;34m()\u001b[0m\n\u001b[1;32m      1\u001b[0m \u001b[0mparty\u001b[0m \u001b[0;34m=\u001b[0m \u001b[0;34m(\u001b[0m\u001b[0;34m\"pdip\"\u001b[0m\u001b[0;34m,\u001b[0m \u001b[0;34m\"demokrat\"\u001b[0m\u001b[0;34m,\u001b[0m \u001b[0;34m\"gerindra\"\u001b[0m\u001b[0;34m,\u001b[0m \u001b[0;34m\"golkar\"\u001b[0m\u001b[0;34m)\u001b[0m\u001b[0;34m\u001b[0m\u001b[0;34m\u001b[0m\u001b[0m\n\u001b[0;32m----> 2\u001b[0;31m \u001b[0mparty\u001b[0m\u001b[0;34m[\u001b[0m\u001b[0;36m1\u001b[0m\u001b[0;34m]\u001b[0m \u001b[0;34m=\u001b[0m \u001b[0;34m\"psi\"\u001b[0m\u001b[0;34m\u001b[0m\u001b[0;34m\u001b[0m\u001b[0m\n\u001b[0m\u001b[1;32m      3\u001b[0m \u001b[0mprint\u001b[0m\u001b[0;34m(\u001b[0m\u001b[0mparty\u001b[0m\u001b[0;34m)\u001b[0m\u001b[0;34m\u001b[0m\u001b[0;34m\u001b[0m\u001b[0m\n",
            "\u001b[0;31mTypeError\u001b[0m: 'tuple' object does not support item assignment"
          ]
        }
      ]
    },
    {
      "cell_type": "code",
      "source": [
        "# Original tuple\n",
        "colors_tuple = (\"red\", \"green\", \"blue\", \"yellow\", \"purple\")\n",
        "\n",
        "# Attempting to modify an element (not possible, will raise a TypeError)\n",
        "# colors_tuple[1] = \"orange\"  # Uncommenting this line will raise a TypeError\n",
        "\n",
        "# Attempting to add an element (not possible, will raise a TypeError)\n",
        "# colors_tuple += (\"orange\",)  # Uncommenting this line will raise a TypeError\n",
        "\n",
        "# Attempting to delete an element (not possible, will raise a TypeError)\n",
        "# del colors_tuple[2]  # Uncommenting this line will raise a TypeError\n",
        "\n",
        "# Creating a new tuple with modifications\n",
        "modified_colors_tuple = colors_tuple + (\"orange\", \"pink\")\n",
        "\n",
        "# Displaying the results\n",
        "print(\"Original tuple:\", colors_tuple)\n",
        "print(\"Modified tuple:\", modified_colors_tuple)"
      ],
      "metadata": {
        "colab": {
          "base_uri": "https://localhost:8080/"
        },
        "id": "KYnhn1AYSLKc",
        "outputId": "5666344e-350f-4773-abeb-1b102ccffb87"
      },
      "execution_count": null,
      "outputs": [
        {
          "output_type": "stream",
          "name": "stdout",
          "text": [
            "Original tuple: ('red', 'green', 'blue', 'yellow', 'purple')\n",
            "Modified tuple: ('red', 'green', 'blue', 'yellow', 'purple', 'orange', 'pink')\n"
          ]
        }
      ]
    },
    {
      "cell_type": "markdown",
      "source": [
        "\n",
        "\n",
        "As demonstrated in the example, attempting to directly modify, add, or delete elements in a tuple will result in a `TypeError` due to the immutability of tuples.\n",
        "\n",
        "However, you can create a new tuple by combining or concatenating existing tuples with the desired modifications. This approach preserves the original tuple while providing the updated version as a new tuple."
      ],
      "metadata": {
        "id": "OKzvP2yeSG4P"
      }
    },
    {
      "cell_type": "markdown",
      "source": [
        "### Set"
      ],
      "metadata": {
        "id": "zTmEiOkeeRNC"
      }
    },
    {
      "cell_type": "markdown",
      "source": [
        "The major advantage of using a set, as opposed to a list, is that it has a highly optimized method for checking whether a specific element is contained in the set. This is based on a data structure known as a hash table. Since sets are unordered, we cannot access items using indexes as we do in lists.\n",
        "* Set are represented by { }\n",
        "* Sets are unordered, so you cannot be sure in which order the items will appear.\n",
        "* Set items are unchangeable, but you can remove items and add new items.\n",
        "* Duplicates Not Allowed\n",
        "\n"
      ],
      "metadata": {
        "id": "CG4LwrNJinEg"
      }
    },
    {
      "cell_type": "code",
      "source": [
        "# Define empty set\n",
        "\n",
        "# Dont do this\n",
        "learning_path = {}\n",
        "print(type(learning_path))\n",
        "\n",
        "learning_path = set()\n",
        "print(type(learning_path))"
      ],
      "metadata": {
        "colab": {
          "base_uri": "https://localhost:8080/"
        },
        "id": "J4tVQqk6V5uw",
        "outputId": "4af32241-296b-43af-834b-305fb264ed00"
      },
      "execution_count": null,
      "outputs": [
        {
          "output_type": "stream",
          "name": "stdout",
          "text": [
            "<class 'dict'>\n",
            "<class 'set'>\n"
          ]
        }
      ]
    },
    {
      "cell_type": "code",
      "source": [
        "learning_path = {\"Machine Learning\",\n",
        "                 \"Cloud Computing\",\n",
        "                 \"Mobile Development\"}\n",
        "\n",
        "print(learning_path)\n",
        "\n",
        "# Adding elements\n",
        "learning_path.add(\"Data Scientist\")\n",
        "print(learning_path)\n",
        "print(type(learning_path))"
      ],
      "metadata": {
        "colab": {
          "base_uri": "https://localhost:8080/"
        },
        "id": "yrg52n5aeTR3",
        "outputId": "9c0d1b3a-32b9-436c-f997-41836395588b"
      },
      "execution_count": null,
      "outputs": [
        {
          "output_type": "stream",
          "name": "stdout",
          "text": [
            "{'Machine Learning', 'Cloud Computing', 'Mobile Development'}\n",
            "{'Machine Learning', 'Cloud Computing', 'Mobile Development', 'Data Scientist'}\n",
            "<class 'set'>\n"
          ]
        }
      ]
    },
    {
      "cell_type": "markdown",
      "source": [
        "#### **Union operation on Python Sets**"
      ],
      "metadata": {
        "id": "YFsQUE5m8zG8"
      }
    },
    {
      "cell_type": "markdown",
      "source": [
        "\n",
        "\n",
        "Two sets can be merged using union() function or | operator. Both Hash Table values are accessed and traversed with merge operation perform on them to combine the elements, at the same time duplicates are removed."
      ],
      "metadata": {
        "id": "rSCRY94wmexj"
      }
    },
    {
      "cell_type": "code",
      "source": [
        "learning_path = {\"Machine Learning\",\n",
        "                 \"Cloud Computing\",\n",
        "                 \"Mobile Development\"}\n",
        "job = {\"DevOps\",\n",
        "        \"Machine Learning\",\n",
        "        \"Fullstack Website\"}\n",
        "\n",
        "skills = learning_path.union(job)\n",
        "\n",
        "print(\"Union using union() function\")\n",
        "print(skills)\n",
        "\n",
        "skills = learning_path|job\n",
        "\n",
        "print(\"\\nUnion using '|' operator\")\n",
        "print(skills)"
      ],
      "metadata": {
        "colab": {
          "base_uri": "https://localhost:8080/"
        },
        "id": "p3TTJyHnmjrU",
        "outputId": "8c5d1927-28a2-48a4-de5b-150a04fb3b49"
      },
      "execution_count": null,
      "outputs": [
        {
          "output_type": "stream",
          "name": "stdout",
          "text": [
            "Union using union() function\n",
            "{'Machine Learning', 'Mobile Development', 'Cloud Computing', 'Fullstack Website', 'DevOps'}\n",
            "\n",
            "Union using '|' operator\n",
            "{'Machine Learning', 'Mobile Development', 'Cloud Computing', 'Fullstack Website', 'DevOps'}\n"
          ]
        }
      ]
    },
    {
      "cell_type": "markdown",
      "source": [
        "#### **Intersection operation on Python Sets**"
      ],
      "metadata": {
        "id": "ayxYNVTfkzg5"
      }
    },
    {
      "cell_type": "code",
      "source": [
        "best_movies = {\"Parasite\",\n",
        "                 \"Avatar\",\n",
        "                 \"Titanic\"}\n",
        "highest_grossing = {\"Avatar\",\n",
        "        \"Avnegers: Endgame\",\n",
        "        \"Titanic\"}\n",
        "match_movies = best_movies & highest_grossing\n",
        "print(match_movies)"
      ],
      "metadata": {
        "colab": {
          "base_uri": "https://localhost:8080/"
        },
        "id": "AQ3TLlwFGJuR",
        "outputId": "8a07e38a-9d59-4422-93fe-eb60b4f61cc9"
      },
      "execution_count": null,
      "outputs": [
        {
          "output_type": "stream",
          "name": "stdout",
          "text": [
            "{'Titanic', 'Avatar'}\n"
          ]
        }
      ]
    },
    {
      "cell_type": "code",
      "source": [
        "\n",
        "# Intersection using\n",
        "# intersection() function\n",
        "match_job = learning_path.intersection(job)\n",
        "\n",
        "print(\"Intersection using intersection() function\")\n",
        "print(match_job)\n",
        "\n",
        "# Intersection using\n",
        "# \"&\" operator\n",
        "match_job = learning_path & job\n",
        "\n",
        "print(\"\\nIntersection using '&' operator\")\n",
        "print(match_job)"
      ],
      "metadata": {
        "colab": {
          "base_uri": "https://localhost:8080/"
        },
        "id": "SAVQ5SYhoR7x",
        "outputId": "746a73f7-347f-4384-c8f8-c30aaa0079ed"
      },
      "execution_count": null,
      "outputs": [
        {
          "output_type": "stream",
          "name": "stdout",
          "text": [
            "Intersection using intersection() function\n",
            "{'Machine Learning'}\n",
            "\n",
            "Intersection using '&' operator\n",
            "{'Machine Learning'}\n"
          ]
        }
      ]
    },
    {
      "cell_type": "markdown",
      "source": [
        "#### **Finding Differences of Sets in Python**"
      ],
      "metadata": {
        "id": "Te8NyhYSozrF"
      }
    },
    {
      "cell_type": "code",
      "source": [
        "# Difference of two sets\n",
        "# using difference() function\n",
        "learning = learning_path.difference(job)\n",
        "job2 = job.difference(learning_path)\n",
        "\n",
        "print(\" Difference of two sets using difference() function\")\n",
        "print(learning)\n",
        "print(job2)\n",
        "\n",
        "# Difference of two sets\n",
        "# using '-' operator\n",
        "learning = learning_path - job\n",
        "job2 = job - learning_path\n",
        "\n",
        "print(\"\\nDifference of two sets using '-' operator\")\n",
        "print(learning)\n",
        "print(job2)"
      ],
      "metadata": {
        "colab": {
          "base_uri": "https://localhost:8080/"
        },
        "id": "79M6EeHYo1bS",
        "outputId": "fdfa2cc0-1e84-403b-badd-41480004a2c5"
      },
      "execution_count": null,
      "outputs": [
        {
          "output_type": "stream",
          "name": "stdout",
          "text": [
            " Difference of two sets using difference() function\n",
            "{'Mobile Development', 'Cloud Computing'}\n",
            "{'Fullstack Website', 'DevOps'}\n",
            "\n",
            "Difference of two sets using '-' operator\n",
            "{'Mobile Development', 'Cloud Computing'}\n",
            "{'Fullstack Website', 'DevOps'}\n"
          ]
        }
      ]
    },
    {
      "cell_type": "markdown",
      "source": [
        "#### **Clearing Python Sets**"
      ],
      "metadata": {
        "id": "XxjroyFIpFS3"
      }
    },
    {
      "cell_type": "code",
      "source": [
        "print(\"Initial set\")\n",
        "print(learning_path)\n",
        "\n",
        "# This method will remove\n",
        "# all the elements of the set\n",
        "learning_path.clear()\n",
        "\n",
        "print(\"\\nSet after using clear() function\")\n",
        "print(learning_path)"
      ],
      "metadata": {
        "colab": {
          "base_uri": "https://localhost:8080/"
        },
        "id": "qJtI29M_pGkH",
        "outputId": "a6f82345-dbff-4686-c124-8b50f0d1fc1b"
      },
      "execution_count": null,
      "outputs": [
        {
          "output_type": "stream",
          "name": "stdout",
          "text": [
            "Initial set\n",
            "{'Machine Learning', 'Cloud Computing', 'Mobile Development'}\n",
            "\n",
            "Set after using clear() function\n",
            "set()\n"
          ]
        }
      ]
    },
    {
      "cell_type": "markdown",
      "source": [
        "### Dictionary"
      ],
      "metadata": {
        "id": "gnNmFBUX9Cxv"
      }
    },
    {
      "cell_type": "markdown",
      "source": [
        "A dictionary in Python is a collection of key-value pairs, where each key must be unique. Dictionaries are defined using curly braces `{}` and consist of comma-separated key-value pairs.\n",
        "\n",
        "\n",
        "Key Characteristics of Dictionaries:\n",
        "\n",
        "- Unordered: Elements in a dictionary have no specific order.\n",
        "- Mutable: Elements of a dictionary can be added, modified, or removed after the dictionary is created.\n",
        "- Key-Value Pairs: Each element in a dictionary is a key-value pair."
      ],
      "metadata": {
        "id": "x0-37VDMUsiZ"
      }
    },
    {
      "cell_type": "markdown",
      "source": [
        "#### **Example**"
      ],
      "metadata": {
        "id": "aDCEje8DUzw_"
      }
    },
    {
      "cell_type": "code",
      "source": [
        "# Creating a dictionary\n",
        "fruit_prices = {\"apple\": 1.00, \"orange\": 0.80, \"banana\": 0.50}\n",
        "\n",
        "# Displaying the dictionary\n",
        "print(\"Fruit Prices:\", fruit_prices)"
      ],
      "metadata": {
        "colab": {
          "base_uri": "https://localhost:8080/"
        },
        "id": "HNHst3LwUwPx",
        "outputId": "0b744d92-cb32-428c-a213-e91f3e84de07"
      },
      "execution_count": null,
      "outputs": [
        {
          "output_type": "stream",
          "name": "stdout",
          "text": [
            "Fruit Prices: {'apple': 1.0, 'orange': 0.8, 'banana': 0.5}\n"
          ]
        }
      ]
    },
    {
      "cell_type": "markdown",
      "source": [
        "In this example:\n",
        "- `fruit_prices` is a dictionary with fruit names as keys and their corresponding prices as values.\n"
      ],
      "metadata": {
        "id": "ey4uykpbU5Yi"
      }
    },
    {
      "cell_type": "markdown",
      "source": [
        "#### **Common Dictionary Operations**"
      ],
      "metadata": {
        "id": "xh38sG5CVXJT"
      }
    },
    {
      "cell_type": "markdown",
      "source": [
        "- Accessing values: `dictionary[key]`\n",
        "- Adding a new key-value pair: `dictionary[key] = value`\n",
        "- Modifying a value: `dictionary[key] = new_value`\n",
        "- Removing a key-value pair: `del dictionary[key]`\n",
        "- Checking key existence: `key in dictionary`"
      ],
      "metadata": {
        "id": "WZTHp0WxVZzO"
      }
    },
    {
      "cell_type": "code",
      "source": [
        "  # Dictionary operations\n",
        "  student_info = {\"name\": \"John\",\n",
        "                  \"age\": 20,\n",
        "                  \"grade\": \"A\"}"
      ],
      "metadata": {
        "id": "mTHEb-RBVJa2"
      },
      "execution_count": null,
      "outputs": []
    },
    {
      "cell_type": "code",
      "source": [
        "# Accessing values\n",
        "name = student_info[\"name\"]\n",
        "print(\"Name:\", name)"
      ],
      "metadata": {
        "colab": {
          "base_uri": "https://localhost:8080/"
        },
        "id": "_OZVYpHEVudK",
        "outputId": "9f25cbcf-e715-43f4-d03e-572ca90eed9f"
      },
      "execution_count": null,
      "outputs": [
        {
          "output_type": "stream",
          "name": "stdout",
          "text": [
            "Name: John\n"
          ]
        }
      ]
    },
    {
      "cell_type": "code",
      "source": [
        "# Adding a new key-value pair\n",
        "student_info[\"city\"] = \"New York\"\n",
        "print(student_info)"
      ],
      "metadata": {
        "colab": {
          "base_uri": "https://localhost:8080/"
        },
        "id": "aG6JdAqKVwPQ",
        "outputId": "1f25d85b-8685-490c-e54f-32850b50ef42"
      },
      "execution_count": null,
      "outputs": [
        {
          "output_type": "stream",
          "name": "stdout",
          "text": [
            "{'name': 'John', 'age': 20, 'grade': 'A', 'city': 'New York'}\n"
          ]
        }
      ]
    },
    {
      "cell_type": "code",
      "source": [
        "# Modifying a value\n",
        "student_info[\"age\"] = 21\n",
        "print(student_info)"
      ],
      "metadata": {
        "colab": {
          "base_uri": "https://localhost:8080/"
        },
        "id": "tPNrmdiXVzf_",
        "outputId": "8cc90903-1cbc-4aca-c46b-48e6fff9f44d"
      },
      "execution_count": null,
      "outputs": [
        {
          "output_type": "stream",
          "name": "stdout",
          "text": [
            "{'name': 'John', 'age': 21, 'grade': 'A', 'city': 'New York'}\n"
          ]
        }
      ]
    },
    {
      "cell_type": "code",
      "source": [
        "# Removing a key-value pair\n",
        "del student_info[\"grade\"]\n",
        "print(student_info)"
      ],
      "metadata": {
        "colab": {
          "base_uri": "https://localhost:8080/"
        },
        "id": "--2zSTSzV7jB",
        "outputId": "aac48390-9bb2-4ae6-ef12-f344ef212fa2"
      },
      "execution_count": null,
      "outputs": [
        {
          "output_type": "stream",
          "name": "stdout",
          "text": [
            "{'name': 'John', 'age': 21, 'city': 'New York'}\n"
          ]
        }
      ]
    },
    {
      "cell_type": "code",
      "source": [
        "# Checking key existence\n",
        "has_grade = \"grade\" in student_info\n",
        "print(\"Has grade key?\", has_grade)"
      ],
      "metadata": {
        "colab": {
          "base_uri": "https://localhost:8080/"
        },
        "id": "LG4DyCaUV_De",
        "outputId": "916cf7da-8190-4d03-c4b5-947f5ccdb24e"
      },
      "execution_count": null,
      "outputs": [
        {
          "output_type": "stream",
          "name": "stdout",
          "text": [
            "Has grade key? False\n"
          ]
        }
      ]
    },
    {
      "cell_type": "code",
      "source": [
        "# Displaying the updated dictionary\n",
        "print(\"Updated Student Info:\", student_info)"
      ],
      "metadata": {
        "colab": {
          "base_uri": "https://localhost:8080/"
        },
        "id": "2ksPev0IWAuL",
        "outputId": "62cf5ed3-95c4-43ec-992f-e3f63fea56c7"
      },
      "execution_count": null,
      "outputs": [
        {
          "output_type": "stream",
          "name": "stdout",
          "text": [
            "Updated Student Info: {'name': 'John', 'age': 21, 'city': 'New York'}\n"
          ]
        }
      ]
    },
    {
      "cell_type": "markdown",
      "source": [
        "In this dictionary operations example:\n",
        "- Accessing values is done using square brackets and the key.\n",
        "- Adding, modifying, and removing key-value pairs are demonstrated.\n",
        "- Checking key existence is done using the `in` operator.\n",
        "\n",
        "Dictionaries are versatile and widely used in Python for storing and manipulating data with a key-based structure."
      ],
      "metadata": {
        "id": "1onHU4oqVPqK"
      }
    },
    {
      "cell_type": "markdown",
      "source": [
        "#### **Dictionary with Homogeneous Data**"
      ],
      "metadata": {
        "id": "38m3hL_0Wqkw"
      }
    },
    {
      "cell_type": "code",
      "source": [
        "# Dictionary with homogeneous data (mixed types)\n",
        "person_info = {\n",
        "    \"name\": \"John Doe\",\n",
        "    \"age\": 30,\n",
        "    \"address\": {\n",
        "        \"street\": \"123 Main St\",\n",
        "        \"city\": \"Anytown\",\n",
        "        \"zipcode\": \"12345\"\n",
        "    },\n",
        "    \"contacts\": {\n",
        "        \"email\": \"john@example.com\",\n",
        "        \"phone\": {\n",
        "            \"home\": \"555-1234\",\n",
        "            \"work\": \"555-5678\"\n",
        "        }\n",
        "    },\n",
        "    \"is_student\": False\n",
        "}\n",
        "\n",
        "# Displaying the complex dictionary with homogeneous data\n",
        "print(\"Person Information:\")\n",
        "print(\"Name:\", person_info[\"name\"])\n",
        "print(\"Age:\", person_info[\"age\"])\n",
        "print(\"Address:\", person_info[\"address\"])\n",
        "print(\"Email:\", person_info[\"contacts\"][\"email\"])\n",
        "print(\"Home Phone:\", person_info[\"contacts\"][\"phone\"][\"home\"])\n",
        "print(\"Is Student?\", person_info[\"is_student\"])\n"
      ],
      "metadata": {
        "colab": {
          "base_uri": "https://localhost:8080/"
        },
        "id": "HVa_ketaWkXw",
        "outputId": "0b72847e-dece-434f-c044-4a1b93c899bb"
      },
      "execution_count": null,
      "outputs": [
        {
          "output_type": "stream",
          "name": "stdout",
          "text": [
            "Person Information:\n",
            "Name: John Doe\n",
            "Age: 30\n",
            "Address: {'street': '123 Main St', 'city': 'Anytown', 'zipcode': '12345'}\n",
            "Email: john@example.com\n",
            "Home Phone: 555-1234\n",
            "Is Student? False\n"
          ]
        }
      ]
    },
    {
      "cell_type": "markdown",
      "source": [
        "In this example, `person_info` is a dictionary that includes various homogeneous data types. It contains strings, integers, nested dictionaries, and a boolean value. The structure allows for storing information about a person, including their name, age, address, contacts, and student status. The nested structure demonstrates how dictionaries can be used to organize and represent complex data."
      ],
      "metadata": {
        "id": "xnPXpzWjWvOq"
      }
    },
    {
      "cell_type": "markdown",
      "source": [
        "#### **Using keys`()`, values`()`, and items`()` Functions in a Dictionary**"
      ],
      "metadata": {
        "id": "0LtpMSriW-ge"
      }
    },
    {
      "cell_type": "markdown",
      "source": [
        "**Using keys`()`, values`()`, and items`()` Functions in a Dictionary:**\n",
        "\n",
        "To examine data within a dictionary, we can use the functions `keys()`, `values()`, and `items()`.\n",
        "\n",
        "- `keys()`: Used to retrieve all keys in the dictionary.\n",
        "- `values()`: Used to retrieve all values (items) in the dictionary.\n",
        "- `items()`: Used to retrieve all key-value pairs in the dictionary."
      ],
      "metadata": {
        "id": "ThF8E-ugXE_c"
      }
    },
    {
      "cell_type": "code",
      "source": [
        "# Sample dictionary\n",
        "person_info = {\n",
        "    \"name\": \"John Doe\",\n",
        "    \"age\": 30,\n",
        "    \"address\": {\n",
        "        \"street\": \"123 Main St\",\n",
        "        \"city\": \"Anytown\",\n",
        "        \"zipcode\": \"12345\"\n",
        "    },\n",
        "    \"contacts\": {\n",
        "        \"email\": \"john@example.com\",\n",
        "        \"phone\": {\n",
        "            \"home\": \"555-1234\",\n",
        "            \"work\": \"555-5678\"\n",
        "        }\n",
        "    },\n",
        "    \"is_student\": False\n",
        "}"
      ],
      "metadata": {
        "id": "45BOXXKdXHdi"
      },
      "execution_count": null,
      "outputs": []
    },
    {
      "cell_type": "code",
      "source": [
        "# Using keys() to get all keys\n",
        "keys_list = person_info.keys()\n",
        "print(\"Keys:\", keys_list)"
      ],
      "metadata": {
        "colab": {
          "base_uri": "https://localhost:8080/"
        },
        "id": "Q_jWefL0XOFI",
        "outputId": "a393574b-11bd-4437-95aa-228e2f254825"
      },
      "execution_count": null,
      "outputs": [
        {
          "output_type": "stream",
          "name": "stdout",
          "text": [
            "Keys: dict_keys(['name', 'age', 'address', 'contacts', 'is_student'])\n"
          ]
        }
      ]
    },
    {
      "cell_type": "code",
      "source": [
        "# Using values() to get all values\n",
        "values_list = person_info.values()\n",
        "print(\"Values:\", values_list)"
      ],
      "metadata": {
        "colab": {
          "base_uri": "https://localhost:8080/"
        },
        "id": "K9i0TBMVXPZA",
        "outputId": "bd07268b-ef92-4ce9-a6c1-bdb68a805cd7"
      },
      "execution_count": null,
      "outputs": [
        {
          "output_type": "stream",
          "name": "stdout",
          "text": [
            "Values: dict_values(['John Doe', 30, {'street': '123 Main St', 'city': 'Anytown', 'zipcode': '12345'}, {'email': 'john@example.com', 'phone': {'home': '555-1234', 'work': '555-5678'}}, False])\n"
          ]
        }
      ]
    },
    {
      "cell_type": "code",
      "source": [
        "# Using items() to get all key-value pairs\n",
        "items_list = person_info.items()\n",
        "print(\"Items:\", items_list)"
      ],
      "metadata": {
        "colab": {
          "base_uri": "https://localhost:8080/"
        },
        "id": "7vnV0xdOXQpv",
        "outputId": "36500ddb-4e44-49ab-b60d-a28b6a9ecd22"
      },
      "execution_count": null,
      "outputs": [
        {
          "output_type": "stream",
          "name": "stdout",
          "text": [
            "Items: dict_items([('name', 'John Doe'), ('age', 30), ('address', {'street': '123 Main St', 'city': 'Anytown', 'zipcode': '12345'}), ('contacts', {'email': 'john@example.com', 'phone': {'home': '555-1234', 'work': '555-5678'}}), ('is_student', False)])\n"
          ]
        }
      ]
    },
    {
      "cell_type": "markdown",
      "source": [
        "In this example, `keys_list` will contain all keys in the dictionary, `values_list` will contain all values, and `items_list` will contain all key-value pairs in the dictionary. Using these functions is useful to easily inspect the structure and content of a dictionary."
      ],
      "metadata": {
        "id": "21nxPrg4XLnW"
      }
    },
    {
      "cell_type": "markdown",
      "source": [
        "#### **Accessing Dictionary Values**"
      ],
      "metadata": {
        "id": "rnpdbxHmXeeS"
      }
    },
    {
      "cell_type": "markdown",
      "source": [
        "The `in` and `not in` operators can be used to check whether a specific key or value exists in a dictionary or not."
      ],
      "metadata": {
        "id": "bGfF_MYWXj8S"
      }
    },
    {
      "cell_type": "code",
      "source": [
        "# Sample dictionary\n",
        "fruit_prices = {\"apple\": 1.00, \"orange\": 0.80, \"banana\": 0.50, \"kiwi\": 1.20}"
      ],
      "metadata": {
        "id": "N6mvRxgUXmMG"
      },
      "execution_count": null,
      "outputs": []
    },
    {
      "cell_type": "code",
      "source": [
        "# Using in to check if a key exists\n",
        "has_banana = \"banana\" in fruit_prices\n",
        "print(\"Has Banana Key?\", has_banana)"
      ],
      "metadata": {
        "colab": {
          "base_uri": "https://localhost:8080/"
        },
        "id": "hSDbEutcXtMe",
        "outputId": "c07c815b-007d-41d8-c046-b6b2eea29d9a"
      },
      "execution_count": null,
      "outputs": [
        {
          "output_type": "stream",
          "name": "stdout",
          "text": [
            "Has Banana Key? True\n"
          ]
        }
      ]
    },
    {
      "cell_type": "code",
      "source": [
        "# Using not in to check if a key doesn't exist\n",
        "has_grape = \"grape\" not in fruit_prices\n",
        "print(\"Has Grape Key?\", has_grape)"
      ],
      "metadata": {
        "colab": {
          "base_uri": "https://localhost:8080/"
        },
        "id": "rldHAVHdXuxl",
        "outputId": "28e5c19d-6cf1-4e8a-e1f2-440d944003e5"
      },
      "execution_count": null,
      "outputs": [
        {
          "output_type": "stream",
          "name": "stdout",
          "text": [
            "Has Grape Key? True\n"
          ]
        }
      ]
    },
    {
      "cell_type": "code",
      "source": [
        "# Using in to check if a value exists\n",
        "has_price_80 = 0.80 in fruit_prices.values()\n",
        "print(\"Has Price 0.80?\", has_price_80)"
      ],
      "metadata": {
        "colab": {
          "base_uri": "https://localhost:8080/"
        },
        "id": "JFO1m-QaXwHs",
        "outputId": "0dc78ee8-63e5-4622-d4bf-607200641ae8"
      },
      "execution_count": null,
      "outputs": [
        {
          "output_type": "stream",
          "name": "stdout",
          "text": [
            "Has Price 0.80? True\n"
          ]
        }
      ]
    },
    {
      "cell_type": "code",
      "source": [
        "# Using not in to check if a value doesn't exist\n",
        "has_price_1 = 1.00 not in fruit_prices.values()\n",
        "print(\"Has Price 1.00?\", has_price_1)"
      ],
      "metadata": {
        "colab": {
          "base_uri": "https://localhost:8080/"
        },
        "id": "4imLzLLeXxYc",
        "outputId": "b38107fe-0024-4b5f-ddd7-6bc3f31b90e7"
      },
      "execution_count": null,
      "outputs": [
        {
          "output_type": "stream",
          "name": "stdout",
          "text": [
            "Has Price 1.00? False\n"
          ]
        }
      ]
    },
    {
      "cell_type": "markdown",
      "source": [
        "In this example:\n",
        "- `has_banana` checks whether the key \"banana\" exists in the dictionary.\n",
        "- `has_grape` checks whether the key \"grape\" does not exist in the dictionary.\n",
        "- `has_price_80` checks whether the value 0.80 exists in the dictionary values.\n",
        "- `has_price_1` checks whether the value 1.00 does not exist in the dictionary values.\n",
        "\n",
        "These operators are useful for conditional checks when working with dictionaries to ensure that keys or values are present or absent as needed."
      ],
      "metadata": {
        "id": "G772BqBqXo6e"
      }
    },
    {
      "cell_type": "markdown",
      "source": [
        "#### **Accessing Dictionary Values by Key**"
      ],
      "metadata": {
        "id": "cx_GS_ZKX5uf"
      }
    },
    {
      "cell_type": "markdown",
      "source": [
        "\n",
        "Similar to lists, accessing values (items) in a dictionary can be done using an index. However, dictionaries use keys as indices.\n",
        "\n",
        "To access a value in a dictionary, simply mention the key within square brackets `[]`."
      ],
      "metadata": {
        "id": "n7fMSX60X8Ce"
      }
    },
    {
      "cell_type": "code",
      "source": [
        "# Sample dictionary\n",
        "fruit_prices = {\"apple\": 1.00, \"orange\": 0.80, \"banana\": 0.50, \"kiwi\": 1.20}"
      ],
      "metadata": {
        "id": "OMMZ8iZfYJgC"
      },
      "execution_count": null,
      "outputs": []
    },
    {
      "cell_type": "code",
      "source": [
        "# Accessing values by key\n",
        "apple_price = fruit_prices[\"apple\"]\n",
        "banana_price = fruit_prices[\"banana\"]"
      ],
      "metadata": {
        "id": "OBB6FxQaX_Hi"
      },
      "execution_count": null,
      "outputs": []
    },
    {
      "cell_type": "code",
      "source": [
        "# Displaying the accessed values\n",
        "print(\"Price of Apple:\", apple_price)\n",
        "print(\"Price of Banana:\", banana_price)"
      ],
      "metadata": {
        "colab": {
          "base_uri": "https://localhost:8080/"
        },
        "id": "ilPkUVr0YH2J",
        "outputId": "31122f65-07c9-4c37-d8cf-6c7ba1009b04"
      },
      "execution_count": null,
      "outputs": [
        {
          "output_type": "stream",
          "name": "stdout",
          "text": [
            "Price of Apple: 1.0\n",
            "Price of Banana: 0.5\n"
          ]
        }
      ]
    },
    {
      "cell_type": "markdown",
      "source": [
        "In this example:\n",
        "- `apple_price` is obtained by accessing the value associated with the key \"apple\".\n",
        "- `banana_price` is obtained by accessing the value associated with the key \"banana\".\n",
        "- The accessed values are then displayed.\n",
        "\n",
        "Using keys for indexing allows for efficient and direct access to values in a dictionary."
      ],
      "metadata": {
        "id": "jMi58vkcYB1K"
      }
    },
    {
      "cell_type": "markdown",
      "source": [
        "#### **Manipulating Data in a Dictionary**"
      ],
      "metadata": {
        "id": "Q9mktYA0Zrw8"
      }
    },
    {
      "cell_type": "markdown",
      "source": [
        "Data in a dictionary can be added by providing new key-value pairs to the dictionary.\n",
        "\n",
        "There are three methods that can be used to remove specific data from the dictionary:\n",
        "\n",
        "1. **`del`**: Used to delete an element based on the key.\n",
        "2. **`pop()`**: Used to delete an element based on the key and returns the deleted value.\n",
        "3. **`clear()`**: Used to delete all elements in the dictionary."
      ],
      "metadata": {
        "id": "ErRj0NjaZvwC"
      }
    },
    {
      "cell_type": "code",
      "source": [
        "# Sample dictionary\n",
        "student_info = {\"name\": \"Alice\", \"age\": 25, \"grade\": \"B\", \"is_student\": True}"
      ],
      "metadata": {
        "id": "YpYbvOGbZyQm"
      },
      "execution_count": null,
      "outputs": []
    },
    {
      "cell_type": "code",
      "source": [
        "# Adding a new key-value pair\n",
        "student_info[\"city\"] = \"Wonderland\"\n",
        "print(student_info)"
      ],
      "metadata": {
        "colab": {
          "base_uri": "https://localhost:8080/"
        },
        "id": "MWxTFpGGZ3rz",
        "outputId": "104c9818-add5-40d8-b6ec-0d4d463c8068"
      },
      "execution_count": null,
      "outputs": [
        {
          "output_type": "stream",
          "name": "stdout",
          "text": [
            "{'name': 'Alice', 'age': 25, 'grade': 'B', 'is_student': True, 'city': 'Wonderland'}\n"
          ]
        }
      ]
    },
    {
      "cell_type": "code",
      "source": [
        "# Deleting an element using del\n",
        "del student_info[\"grade\"]\n",
        "print(\"After Deletion (del):\", student_info)"
      ],
      "metadata": {
        "colab": {
          "base_uri": "https://localhost:8080/"
        },
        "id": "jW7CwypJZ_tY",
        "outputId": "754cbc75-0d2a-4246-bc48-80d385788961"
      },
      "execution_count": null,
      "outputs": [
        {
          "output_type": "stream",
          "name": "stdout",
          "text": [
            "After Deletion (del): {'name': 'Alice', 'age': 25, 'is_student': True, 'city': 'Wonderland'}\n"
          ]
        }
      ]
    },
    {
      "cell_type": "code",
      "source": [
        "# Deleting and returning a value using pop()\n",
        "removed_age = student_info.pop(\"age\")\n",
        "print(\"Removed Age (pop()):\", removed_age)\n",
        "print(\"After Deletion (pop()):\", student_info)"
      ],
      "metadata": {
        "colab": {
          "base_uri": "https://localhost:8080/"
        },
        "id": "I5pOJJdBaBDV",
        "outputId": "30ea061c-7c97-4bdc-c93a-63ec19f29eb8"
      },
      "execution_count": null,
      "outputs": [
        {
          "output_type": "stream",
          "name": "stdout",
          "text": [
            "Removed Age (pop()): 25\n",
            "After Deletion (pop()): {'name': 'Alice', 'is_student': True, 'city': 'Wonderland'}\n"
          ]
        }
      ]
    },
    {
      "cell_type": "code",
      "source": [
        "# Clearing all elements using clear()\n",
        "student_info.clear()\n",
        "print(\"After Clearing (clear()):\", student_info)"
      ],
      "metadata": {
        "colab": {
          "base_uri": "https://localhost:8080/"
        },
        "id": "yCWiEndqaCaT",
        "outputId": "b0eba26a-70e7-4372-d5c9-8134a6ad2267"
      },
      "execution_count": null,
      "outputs": [
        {
          "output_type": "stream",
          "name": "stdout",
          "text": [
            "After Clearing (clear()): {}\n"
          ]
        }
      ]
    },
    {
      "cell_type": "markdown",
      "source": [
        "In this example:\n",
        "- New data is added by providing a new key-value pair.\n",
        "- The `del` method is used to delete an element based on the key.\n",
        "- The `pop()` method is used to delete an element based on the key and return the deleted value.\n",
        "- The `clear()` method is used to delete all elements in the dictionary.\n",
        "\n",
        "Using these methods provides flexibility in managing data within a dictionary."
      ],
      "metadata": {
        "id": "79ux0qNwZ0MP"
      }
    },
    {
      "cell_type": "markdown",
      "source": [
        "## [Bonus] Regular Expressions (Regex)\n",
        "\n",
        "A regular expression, also known as regex or regexp, is essentially a search query for text that’s expressed by string pattern.\n",
        "\n",
        "There are multiple different ways through which we can apply regular expressions, a whole wide range of programming languages, includes Python. Also command line tools that know how to apply regexes, like grep, sed or awk. The implementation may vary, but the principles remain the same.\n",
        "\n"
      ],
      "metadata": {
        "id": "Ix5rz1cgr-gu"
      }
    },
    {
      "cell_type": "markdown",
      "source": [
        "* Regular expressions in Python uses raw string (r\"\"). It means that interpreter shouldn't try to interpret any special characters. Just pass the string to the function as is.\n",
        "* The Match object includes information like position in the string that matched and the actual matching string.\n",
        "\n",
        "\n"
      ],
      "metadata": {
        "id": "6zcosPuwsM79"
      }
    },
    {
      "cell_type": "code",
      "source": [
        "import re\n",
        "\n",
        "\n",
        "result = re.search(r\"aza\", \"plaza\")\n",
        "print(result)\n",
        "# <re.Match object; span=(2, 5), match='aza'>\n",
        "print(re.search(r\"aza\", \"maze\"))\n",
        "# None"
      ],
      "metadata": {
        "colab": {
          "base_uri": "https://localhost:8080/"
        },
        "id": "nOAHvuvvuV5R",
        "outputId": "5ebc3254-b202-4621-e05b-904a00f88f2f"
      },
      "execution_count": null,
      "outputs": [
        {
          "output_type": "stream",
          "name": "stdout",
          "text": [
            "<re.Match object; span=(2, 5), match='aza'>\n",
            "None\n"
          ]
        }
      ]
    },
    {
      "cell_type": "markdown",
      "source": [
        "* Circumflex (^) pattern matches the beginning of the line. Dot (.) matches any character. Option re.IGNORECASE to match insensitive case."
      ],
      "metadata": {
        "id": "3aL1F5a7uZDL"
      }
    },
    {
      "cell_type": "code",
      "source": [
        "print(re.search(r\"^x\", \"xenon\"))\n",
        "# <re.Match object; span=(0, 1), match='x'>\n",
        "\n",
        "print(re.search(r\"p.ng\", \"sponge\"))\n",
        "# <re.Match object; span=(1, 5), match='pong'>\n"
      ],
      "metadata": {
        "colab": {
          "base_uri": "https://localhost:8080/"
        },
        "id": "CJn7iAFpsLjh",
        "outputId": "d23841ae-0e5b-4579-b7e3-9102aa9e6d4a"
      },
      "execution_count": null,
      "outputs": [
        {
          "output_type": "stream",
          "name": "stdout",
          "text": [
            "<re.Match object; span=(0, 1), match='x'>\n",
            "<re.Match object; span=(1, 5), match='pong'>\n"
          ]
        }
      ]
    },
    {
      "cell_type": "markdown",
      "source": [
        "* To matched a range of characters, use another feature of regexes called character classes ([ ]).\n"
      ],
      "metadata": {
        "id": "mhL2gjujxQ17"
      }
    },
    {
      "cell_type": "code",
      "source": [
        "print(re.search(r\"cloud[a-zA-Z0-9]\", \"cloud9\"))\n",
        "# <re.Match object; span=(0, 6), match='cloud9'>\n",
        "\n",
        "print(re.search(r\"[^a-zA-Z]\", \"This is a sentence.\"))\n",
        "# <re.Match object; span=(4, 5), match=' '>"
      ],
      "metadata": {
        "colab": {
          "base_uri": "https://localhost:8080/"
        },
        "id": "Wpfo9E3aq-PI",
        "outputId": "5e5e79f1-2dc6-40ba-e444-6fdfcb72799c"
      },
      "execution_count": null,
      "outputs": [
        {
          "output_type": "stream",
          "name": "stdout",
          "text": [
            "<re.Match object; span=(0, 6), match='cloud9'>\n",
            "<re.Match object; span=(4, 5), match=' '>\n"
          ]
        }
      ]
    },
    {
      "cell_type": "markdown",
      "source": [
        "* Use the pipe symbol (|) to match one expression or another."
      ],
      "metadata": {
        "id": "7krjV5equfvW"
      }
    },
    {
      "cell_type": "code",
      "source": [
        "print(re.search(r\"cat|dog\", \"I like cats.\"))\n",
        "# <re.Match object; span=(7, 10), match='cat'>"
      ],
      "metadata": {
        "colab": {
          "base_uri": "https://localhost:8080/"
        },
        "id": "LNkO7WZZukUH",
        "outputId": "ae727929-dc7c-422e-cb74-150b5366f628"
      },
      "execution_count": null,
      "outputs": [
        {
          "output_type": "stream",
          "name": "stdout",
          "text": [
            "<re.Match object; span=(7, 10), match='cat'>\n"
          ]
        }
      ]
    },
    {
      "cell_type": "markdown",
      "source": [
        "* Dollar sign ($) pattern match the end of the line."
      ],
      "metadata": {
        "id": "eg7gKGMPuioi"
      }
    },
    {
      "cell_type": "code",
      "source": [
        "print(re.search(r\"cat$\", \"I like cats.\"))\n",
        "# None"
      ],
      "metadata": {
        "colab": {
          "base_uri": "https://localhost:8080/"
        },
        "id": "STqJHazoun1y",
        "outputId": "c66dbdb4-831b-4861-9bf5-49a42f3fe9f6"
      },
      "execution_count": null,
      "outputs": [
        {
          "output_type": "stream",
          "name": "stdout",
          "text": [
            "None\n"
          ]
        }
      ]
    },
    {
      "cell_type": "markdown",
      "source": [
        "Repeated matches is another regex concept.\n",
        "* The star (*) takes as many character as possible.\n"
      ],
      "metadata": {
        "id": "i9_mHgy6xh9d"
      }
    },
    {
      "cell_type": "code",
      "source": [
        "print(re.search(r\"Py[a-z]*n\", \"Python Programming\"))\n",
        "# <re.Match object; span=(0, 6), match='Python'>"
      ],
      "metadata": {
        "colab": {
          "base_uri": "https://localhost:8080/"
        },
        "id": "7Hwpl2DNxhSK",
        "outputId": "0e773338-c62c-4ccc-f6c3-096e1f076cc7"
      },
      "execution_count": null,
      "outputs": [
        {
          "output_type": "stream",
          "name": "stdout",
          "text": [
            "<re.Match object; span=(0, 6), match='Python'>\n"
          ]
        }
      ]
    },
    {
      "cell_type": "markdown",
      "source": [
        "* The plus (+) character matches one or more occurrences of the character before it."
      ],
      "metadata": {
        "id": "TxqJPlQ7uyxy"
      }
    },
    {
      "cell_type": "code",
      "source": [
        "print(re.search(r\"o+l+\", \"woolly\"))\n",
        "# <re.Match object; span=(1, 5), match='ooll'>"
      ],
      "metadata": {
        "colab": {
          "base_uri": "https://localhost:8080/"
        },
        "id": "mD9smJvCu3Kx",
        "outputId": "d8092f88-5ba2-40a4-bb1a-028fc4efd89d"
      },
      "execution_count": null,
      "outputs": [
        {
          "output_type": "stream",
          "name": "stdout",
          "text": [
            "<re.Match object; span=(1, 5), match='ooll'>\n"
          ]
        }
      ]
    },
    {
      "cell_type": "markdown",
      "source": [
        "* The question (?) mark symbol means either zero or one occurrence of the character before it."
      ],
      "metadata": {
        "id": "nf41x191u1jI"
      }
    },
    {
      "cell_type": "code",
      "source": [
        "print(re.search(r\"p?each\", \"I like peaches\"))\n",
        "# <re.Match object; span=(7, 12), match='peach'>"
      ],
      "metadata": {
        "colab": {
          "base_uri": "https://localhost:8080/"
        },
        "id": "y5yJ1T9xu6cH",
        "outputId": "6aed80cd-feb8-429b-ad48-67be5a92e1b6"
      },
      "execution_count": null,
      "outputs": [
        {
          "output_type": "stream",
          "name": "stdout",
          "text": [
            "<re.Match object; span=(7, 12), match='peach'>\n"
          ]
        }
      ]
    }
  ]
}